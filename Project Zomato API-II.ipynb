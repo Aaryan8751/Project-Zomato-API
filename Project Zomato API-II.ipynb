{
 "cells": [
  {
   "cell_type": "markdown",
   "metadata": {},
   "source": [
    "### Authorization Key : 33f63ed15365921c3c1b6f01ed0fd123"
   ]
  },
  {
   "cell_type": "markdown",
   "metadata": {},
   "source": [
    "# # Note - Consider only Indian restaurants in this analysis"
   ]
  },
  {
   "cell_type": "markdown",
   "metadata": {},
   "source": [
    "### Firstly we will read the zomato.csv file using the pandas and save the Dataframe in df. Now we will extract the Indian Restaurants data using the country code equals to 1 and save the dataframe in df_India. Now we will extract the Delhi_NCR Region and Rest of India and store the dataframe in df_Delhi_NCR and df_ROI respectively\n"
   ]
  },
  {
   "cell_type": "code",
   "execution_count": 1,
   "metadata": {},
   "outputs": [],
   "source": [
    "import pandas as pd\n",
    "import requests\n",
    "from matplotlib import pyplot as plt\n",
    "import operator\n",
    "import numpy as np"
   ]
  },
  {
   "cell_type": "code",
   "execution_count": 2,
   "metadata": {},
   "outputs": [
    {
     "data": {
      "text/html": [
       "<div>\n",
       "<style scoped>\n",
       "    .dataframe tbody tr th:only-of-type {\n",
       "        vertical-align: middle;\n",
       "    }\n",
       "\n",
       "    .dataframe tbody tr th {\n",
       "        vertical-align: top;\n",
       "    }\n",
       "\n",
       "    .dataframe thead th {\n",
       "        text-align: right;\n",
       "    }\n",
       "</style>\n",
       "<table border=\"1\" class=\"dataframe\">\n",
       "  <thead>\n",
       "    <tr style=\"text-align: right;\">\n",
       "      <th></th>\n",
       "      <th>Restaurant ID</th>\n",
       "      <th>Restaurant Name</th>\n",
       "      <th>Country Code</th>\n",
       "      <th>City</th>\n",
       "      <th>Address</th>\n",
       "      <th>Locality</th>\n",
       "      <th>Locality Verbose</th>\n",
       "      <th>Longitude</th>\n",
       "      <th>Latitude</th>\n",
       "      <th>Cuisines</th>\n",
       "      <th>...</th>\n",
       "      <th>Currency</th>\n",
       "      <th>Has Table booking</th>\n",
       "      <th>Has Online delivery</th>\n",
       "      <th>Is delivering now</th>\n",
       "      <th>Switch to order menu</th>\n",
       "      <th>Price range</th>\n",
       "      <th>Aggregate rating</th>\n",
       "      <th>Rating color</th>\n",
       "      <th>Rating text</th>\n",
       "      <th>Votes</th>\n",
       "    </tr>\n",
       "  </thead>\n",
       "  <tbody>\n",
       "    <tr>\n",
       "      <th>0</th>\n",
       "      <td>6317637</td>\n",
       "      <td>Le Petit Souffle</td>\n",
       "      <td>162</td>\n",
       "      <td>Makati City</td>\n",
       "      <td>Third Floor, Century City Mall, Kalayaan Avenu...</td>\n",
       "      <td>Century City Mall, Poblacion, Makati City</td>\n",
       "      <td>Century City Mall, Poblacion, Makati City, Mak...</td>\n",
       "      <td>121.027535</td>\n",
       "      <td>14.565443</td>\n",
       "      <td>French, Japanese, Desserts</td>\n",
       "      <td>...</td>\n",
       "      <td>Botswana Pula(P)</td>\n",
       "      <td>Yes</td>\n",
       "      <td>No</td>\n",
       "      <td>No</td>\n",
       "      <td>No</td>\n",
       "      <td>3</td>\n",
       "      <td>4.8</td>\n",
       "      <td>Dark Green</td>\n",
       "      <td>Excellent</td>\n",
       "      <td>314</td>\n",
       "    </tr>\n",
       "    <tr>\n",
       "      <th>1</th>\n",
       "      <td>6304287</td>\n",
       "      <td>Izakaya Kikufuji</td>\n",
       "      <td>162</td>\n",
       "      <td>Makati City</td>\n",
       "      <td>Little Tokyo, 2277 Chino Roces Avenue, Legaspi...</td>\n",
       "      <td>Little Tokyo, Legaspi Village, Makati City</td>\n",
       "      <td>Little Tokyo, Legaspi Village, Makati City, Ma...</td>\n",
       "      <td>121.014101</td>\n",
       "      <td>14.553708</td>\n",
       "      <td>Japanese</td>\n",
       "      <td>...</td>\n",
       "      <td>Botswana Pula(P)</td>\n",
       "      <td>Yes</td>\n",
       "      <td>No</td>\n",
       "      <td>No</td>\n",
       "      <td>No</td>\n",
       "      <td>3</td>\n",
       "      <td>4.5</td>\n",
       "      <td>Dark Green</td>\n",
       "      <td>Excellent</td>\n",
       "      <td>591</td>\n",
       "    </tr>\n",
       "    <tr>\n",
       "      <th>2</th>\n",
       "      <td>6300002</td>\n",
       "      <td>Heat - Edsa Shangri-La</td>\n",
       "      <td>162</td>\n",
       "      <td>Mandaluyong City</td>\n",
       "      <td>Edsa Shangri-La, 1 Garden Way, Ortigas, Mandal...</td>\n",
       "      <td>Edsa Shangri-La, Ortigas, Mandaluyong City</td>\n",
       "      <td>Edsa Shangri-La, Ortigas, Mandaluyong City, Ma...</td>\n",
       "      <td>121.056831</td>\n",
       "      <td>14.581404</td>\n",
       "      <td>Seafood, Asian, Filipino, Indian</td>\n",
       "      <td>...</td>\n",
       "      <td>Botswana Pula(P)</td>\n",
       "      <td>Yes</td>\n",
       "      <td>No</td>\n",
       "      <td>No</td>\n",
       "      <td>No</td>\n",
       "      <td>4</td>\n",
       "      <td>4.4</td>\n",
       "      <td>Green</td>\n",
       "      <td>Very Good</td>\n",
       "      <td>270</td>\n",
       "    </tr>\n",
       "    <tr>\n",
       "      <th>3</th>\n",
       "      <td>6318506</td>\n",
       "      <td>Ooma</td>\n",
       "      <td>162</td>\n",
       "      <td>Mandaluyong City</td>\n",
       "      <td>Third Floor, Mega Fashion Hall, SM Megamall, O...</td>\n",
       "      <td>SM Megamall, Ortigas, Mandaluyong City</td>\n",
       "      <td>SM Megamall, Ortigas, Mandaluyong City, Mandal...</td>\n",
       "      <td>121.056475</td>\n",
       "      <td>14.585318</td>\n",
       "      <td>Japanese, Sushi</td>\n",
       "      <td>...</td>\n",
       "      <td>Botswana Pula(P)</td>\n",
       "      <td>No</td>\n",
       "      <td>No</td>\n",
       "      <td>No</td>\n",
       "      <td>No</td>\n",
       "      <td>4</td>\n",
       "      <td>4.9</td>\n",
       "      <td>Dark Green</td>\n",
       "      <td>Excellent</td>\n",
       "      <td>365</td>\n",
       "    </tr>\n",
       "    <tr>\n",
       "      <th>4</th>\n",
       "      <td>6314302</td>\n",
       "      <td>Sambo Kojin</td>\n",
       "      <td>162</td>\n",
       "      <td>Mandaluyong City</td>\n",
       "      <td>Third Floor, Mega Atrium, SM Megamall, Ortigas...</td>\n",
       "      <td>SM Megamall, Ortigas, Mandaluyong City</td>\n",
       "      <td>SM Megamall, Ortigas, Mandaluyong City, Mandal...</td>\n",
       "      <td>121.057508</td>\n",
       "      <td>14.584450</td>\n",
       "      <td>Japanese, Korean</td>\n",
       "      <td>...</td>\n",
       "      <td>Botswana Pula(P)</td>\n",
       "      <td>Yes</td>\n",
       "      <td>No</td>\n",
       "      <td>No</td>\n",
       "      <td>No</td>\n",
       "      <td>4</td>\n",
       "      <td>4.8</td>\n",
       "      <td>Dark Green</td>\n",
       "      <td>Excellent</td>\n",
       "      <td>229</td>\n",
       "    </tr>\n",
       "  </tbody>\n",
       "</table>\n",
       "<p>5 rows × 21 columns</p>\n",
       "</div>"
      ],
      "text/plain": [
       "   Restaurant ID         Restaurant Name  Country Code              City  \\\n",
       "0        6317637        Le Petit Souffle           162       Makati City   \n",
       "1        6304287        Izakaya Kikufuji           162       Makati City   \n",
       "2        6300002  Heat - Edsa Shangri-La           162  Mandaluyong City   \n",
       "3        6318506                    Ooma           162  Mandaluyong City   \n",
       "4        6314302             Sambo Kojin           162  Mandaluyong City   \n",
       "\n",
       "                                             Address  \\\n",
       "0  Third Floor, Century City Mall, Kalayaan Avenu...   \n",
       "1  Little Tokyo, 2277 Chino Roces Avenue, Legaspi...   \n",
       "2  Edsa Shangri-La, 1 Garden Way, Ortigas, Mandal...   \n",
       "3  Third Floor, Mega Fashion Hall, SM Megamall, O...   \n",
       "4  Third Floor, Mega Atrium, SM Megamall, Ortigas...   \n",
       "\n",
       "                                     Locality  \\\n",
       "0   Century City Mall, Poblacion, Makati City   \n",
       "1  Little Tokyo, Legaspi Village, Makati City   \n",
       "2  Edsa Shangri-La, Ortigas, Mandaluyong City   \n",
       "3      SM Megamall, Ortigas, Mandaluyong City   \n",
       "4      SM Megamall, Ortigas, Mandaluyong City   \n",
       "\n",
       "                                    Locality Verbose   Longitude   Latitude  \\\n",
       "0  Century City Mall, Poblacion, Makati City, Mak...  121.027535  14.565443   \n",
       "1  Little Tokyo, Legaspi Village, Makati City, Ma...  121.014101  14.553708   \n",
       "2  Edsa Shangri-La, Ortigas, Mandaluyong City, Ma...  121.056831  14.581404   \n",
       "3  SM Megamall, Ortigas, Mandaluyong City, Mandal...  121.056475  14.585318   \n",
       "4  SM Megamall, Ortigas, Mandaluyong City, Mandal...  121.057508  14.584450   \n",
       "\n",
       "                           Cuisines  ...          Currency Has Table booking  \\\n",
       "0        French, Japanese, Desserts  ...  Botswana Pula(P)               Yes   \n",
       "1                          Japanese  ...  Botswana Pula(P)               Yes   \n",
       "2  Seafood, Asian, Filipino, Indian  ...  Botswana Pula(P)               Yes   \n",
       "3                   Japanese, Sushi  ...  Botswana Pula(P)                No   \n",
       "4                  Japanese, Korean  ...  Botswana Pula(P)               Yes   \n",
       "\n",
       "  Has Online delivery Is delivering now Switch to order menu Price range  \\\n",
       "0                  No                No                   No           3   \n",
       "1                  No                No                   No           3   \n",
       "2                  No                No                   No           4   \n",
       "3                  No                No                   No           4   \n",
       "4                  No                No                   No           4   \n",
       "\n",
       "   Aggregate rating  Rating color Rating text Votes  \n",
       "0               4.8    Dark Green   Excellent   314  \n",
       "1               4.5    Dark Green   Excellent   591  \n",
       "2               4.4         Green   Very Good   270  \n",
       "3               4.9    Dark Green   Excellent   365  \n",
       "4               4.8    Dark Green   Excellent   229  \n",
       "\n",
       "[5 rows x 21 columns]"
      ]
     },
     "execution_count": 2,
     "metadata": {},
     "output_type": "execute_result"
    }
   ],
   "source": [
    "df = pd.read_csv(\"Datasets/zomato.csv\",encoding=\"cp437\")\n",
    "df.head()"
   ]
  },
  {
   "cell_type": "code",
   "execution_count": 3,
   "metadata": {},
   "outputs": [
    {
     "data": {
      "text/plain": [
       "Index(['Restaurant ID', 'Restaurant Name', 'Country Code', 'City', 'Address',\n",
       "       'Locality', 'Locality Verbose', 'Longitude', 'Latitude', 'Cuisines',\n",
       "       'Average Cost for two', 'Currency', 'Has Table booking',\n",
       "       'Has Online delivery', 'Is delivering now', 'Switch to order menu',\n",
       "       'Price range', 'Aggregate rating', 'Rating color', 'Rating text',\n",
       "       'Votes'],\n",
       "      dtype='object')"
      ]
     },
     "execution_count": 3,
     "metadata": {},
     "output_type": "execute_result"
    }
   ],
   "source": [
    "df.columns"
   ]
  },
  {
   "cell_type": "code",
   "execution_count": 4,
   "metadata": {},
   "outputs": [
    {
     "data": {
      "text/html": [
       "<div>\n",
       "<style scoped>\n",
       "    .dataframe tbody tr th:only-of-type {\n",
       "        vertical-align: middle;\n",
       "    }\n",
       "\n",
       "    .dataframe tbody tr th {\n",
       "        vertical-align: top;\n",
       "    }\n",
       "\n",
       "    .dataframe thead th {\n",
       "        text-align: right;\n",
       "    }\n",
       "</style>\n",
       "<table border=\"1\" class=\"dataframe\">\n",
       "  <thead>\n",
       "    <tr style=\"text-align: right;\">\n",
       "      <th></th>\n",
       "      <th>Restaurant ID</th>\n",
       "      <th>Country Code</th>\n",
       "      <th>Longitude</th>\n",
       "      <th>Latitude</th>\n",
       "      <th>Average Cost for two</th>\n",
       "      <th>Price range</th>\n",
       "      <th>Aggregate rating</th>\n",
       "      <th>Votes</th>\n",
       "    </tr>\n",
       "  </thead>\n",
       "  <tbody>\n",
       "    <tr>\n",
       "      <th>count</th>\n",
       "      <td>9.551000e+03</td>\n",
       "      <td>9551.000000</td>\n",
       "      <td>9551.000000</td>\n",
       "      <td>9551.000000</td>\n",
       "      <td>9551.000000</td>\n",
       "      <td>9551.000000</td>\n",
       "      <td>9551.000000</td>\n",
       "      <td>9551.000000</td>\n",
       "    </tr>\n",
       "    <tr>\n",
       "      <th>mean</th>\n",
       "      <td>9.051128e+06</td>\n",
       "      <td>18.365616</td>\n",
       "      <td>64.126574</td>\n",
       "      <td>25.854381</td>\n",
       "      <td>1199.210763</td>\n",
       "      <td>1.804837</td>\n",
       "      <td>2.666370</td>\n",
       "      <td>156.909748</td>\n",
       "    </tr>\n",
       "    <tr>\n",
       "      <th>std</th>\n",
       "      <td>8.791521e+06</td>\n",
       "      <td>56.750546</td>\n",
       "      <td>41.467058</td>\n",
       "      <td>11.007935</td>\n",
       "      <td>16121.183073</td>\n",
       "      <td>0.905609</td>\n",
       "      <td>1.516378</td>\n",
       "      <td>430.169145</td>\n",
       "    </tr>\n",
       "    <tr>\n",
       "      <th>min</th>\n",
       "      <td>5.300000e+01</td>\n",
       "      <td>1.000000</td>\n",
       "      <td>-157.948486</td>\n",
       "      <td>-41.330428</td>\n",
       "      <td>0.000000</td>\n",
       "      <td>1.000000</td>\n",
       "      <td>0.000000</td>\n",
       "      <td>0.000000</td>\n",
       "    </tr>\n",
       "    <tr>\n",
       "      <th>25%</th>\n",
       "      <td>3.019625e+05</td>\n",
       "      <td>1.000000</td>\n",
       "      <td>77.081343</td>\n",
       "      <td>28.478713</td>\n",
       "      <td>250.000000</td>\n",
       "      <td>1.000000</td>\n",
       "      <td>2.500000</td>\n",
       "      <td>5.000000</td>\n",
       "    </tr>\n",
       "    <tr>\n",
       "      <th>50%</th>\n",
       "      <td>6.004089e+06</td>\n",
       "      <td>1.000000</td>\n",
       "      <td>77.191964</td>\n",
       "      <td>28.570469</td>\n",
       "      <td>400.000000</td>\n",
       "      <td>2.000000</td>\n",
       "      <td>3.200000</td>\n",
       "      <td>31.000000</td>\n",
       "    </tr>\n",
       "    <tr>\n",
       "      <th>75%</th>\n",
       "      <td>1.835229e+07</td>\n",
       "      <td>1.000000</td>\n",
       "      <td>77.282006</td>\n",
       "      <td>28.642758</td>\n",
       "      <td>700.000000</td>\n",
       "      <td>2.000000</td>\n",
       "      <td>3.700000</td>\n",
       "      <td>131.000000</td>\n",
       "    </tr>\n",
       "    <tr>\n",
       "      <th>max</th>\n",
       "      <td>1.850065e+07</td>\n",
       "      <td>216.000000</td>\n",
       "      <td>174.832089</td>\n",
       "      <td>55.976980</td>\n",
       "      <td>800000.000000</td>\n",
       "      <td>4.000000</td>\n",
       "      <td>4.900000</td>\n",
       "      <td>10934.000000</td>\n",
       "    </tr>\n",
       "  </tbody>\n",
       "</table>\n",
       "</div>"
      ],
      "text/plain": [
       "       Restaurant ID  Country Code    Longitude     Latitude  \\\n",
       "count   9.551000e+03   9551.000000  9551.000000  9551.000000   \n",
       "mean    9.051128e+06     18.365616    64.126574    25.854381   \n",
       "std     8.791521e+06     56.750546    41.467058    11.007935   \n",
       "min     5.300000e+01      1.000000  -157.948486   -41.330428   \n",
       "25%     3.019625e+05      1.000000    77.081343    28.478713   \n",
       "50%     6.004089e+06      1.000000    77.191964    28.570469   \n",
       "75%     1.835229e+07      1.000000    77.282006    28.642758   \n",
       "max     1.850065e+07    216.000000   174.832089    55.976980   \n",
       "\n",
       "       Average Cost for two  Price range  Aggregate rating         Votes  \n",
       "count           9551.000000  9551.000000       9551.000000   9551.000000  \n",
       "mean            1199.210763     1.804837          2.666370    156.909748  \n",
       "std            16121.183073     0.905609          1.516378    430.169145  \n",
       "min                0.000000     1.000000          0.000000      0.000000  \n",
       "25%              250.000000     1.000000          2.500000      5.000000  \n",
       "50%              400.000000     2.000000          3.200000     31.000000  \n",
       "75%              700.000000     2.000000          3.700000    131.000000  \n",
       "max           800000.000000     4.000000          4.900000  10934.000000  "
      ]
     },
     "execution_count": 4,
     "metadata": {},
     "output_type": "execute_result"
    }
   ],
   "source": [
    "df.describe()"
   ]
  },
  {
   "cell_type": "code",
   "execution_count": 5,
   "metadata": {},
   "outputs": [
    {
     "data": {
      "text/plain": [
       "Restaurant ID             int64\n",
       "Restaurant Name          object\n",
       "Country Code              int64\n",
       "City                     object\n",
       "Address                  object\n",
       "Locality                 object\n",
       "Locality Verbose         object\n",
       "Longitude               float64\n",
       "Latitude                float64\n",
       "Cuisines                 object\n",
       "Average Cost for two      int64\n",
       "Currency                 object\n",
       "Has Table booking        object\n",
       "Has Online delivery      object\n",
       "Is delivering now        object\n",
       "Switch to order menu     object\n",
       "Price range               int64\n",
       "Aggregate rating        float64\n",
       "Rating color             object\n",
       "Rating text              object\n",
       "Votes                     int64\n",
       "dtype: object"
      ]
     },
     "execution_count": 5,
     "metadata": {},
     "output_type": "execute_result"
    }
   ],
   "source": [
    "df.dtypes"
   ]
  },
  {
   "cell_type": "code",
   "execution_count": 6,
   "metadata": {
    "scrolled": true
   },
   "outputs": [
    {
     "data": {
      "text/html": [
       "<div>\n",
       "<style scoped>\n",
       "    .dataframe tbody tr th:only-of-type {\n",
       "        vertical-align: middle;\n",
       "    }\n",
       "\n",
       "    .dataframe tbody tr th {\n",
       "        vertical-align: top;\n",
       "    }\n",
       "\n",
       "    .dataframe thead th {\n",
       "        text-align: right;\n",
       "    }\n",
       "</style>\n",
       "<table border=\"1\" class=\"dataframe\">\n",
       "  <thead>\n",
       "    <tr style=\"text-align: right;\">\n",
       "      <th></th>\n",
       "      <th>Restaurant ID</th>\n",
       "      <th>Restaurant Name</th>\n",
       "      <th>Country Code</th>\n",
       "      <th>City</th>\n",
       "      <th>Address</th>\n",
       "      <th>Locality</th>\n",
       "      <th>Locality Verbose</th>\n",
       "      <th>Longitude</th>\n",
       "      <th>Latitude</th>\n",
       "      <th>Cuisines</th>\n",
       "      <th>...</th>\n",
       "      <th>Currency</th>\n",
       "      <th>Has Table booking</th>\n",
       "      <th>Has Online delivery</th>\n",
       "      <th>Is delivering now</th>\n",
       "      <th>Switch to order menu</th>\n",
       "      <th>Price range</th>\n",
       "      <th>Aggregate rating</th>\n",
       "      <th>Rating color</th>\n",
       "      <th>Rating text</th>\n",
       "      <th>Votes</th>\n",
       "    </tr>\n",
       "  </thead>\n",
       "  <tbody>\n",
       "    <tr>\n",
       "      <th>624</th>\n",
       "      <td>3400025</td>\n",
       "      <td>Jahanpanah</td>\n",
       "      <td>1</td>\n",
       "      <td>Agra</td>\n",
       "      <td>E 23, Shopping Arcade, Sadar Bazaar, Agra Cant...</td>\n",
       "      <td>Agra Cantt</td>\n",
       "      <td>Agra Cantt, Agra</td>\n",
       "      <td>78.011544</td>\n",
       "      <td>27.161661</td>\n",
       "      <td>North Indian, Mughlai</td>\n",
       "      <td>...</td>\n",
       "      <td>Indian Rupees(Rs.)</td>\n",
       "      <td>No</td>\n",
       "      <td>No</td>\n",
       "      <td>No</td>\n",
       "      <td>No</td>\n",
       "      <td>3</td>\n",
       "      <td>3.9</td>\n",
       "      <td>Yellow</td>\n",
       "      <td>Good</td>\n",
       "      <td>140</td>\n",
       "    </tr>\n",
       "    <tr>\n",
       "      <th>625</th>\n",
       "      <td>3400341</td>\n",
       "      <td>Rangrezz Restaurant</td>\n",
       "      <td>1</td>\n",
       "      <td>Agra</td>\n",
       "      <td>E-20, Shopping Arcade, Sadar Bazaar, Agra Cant...</td>\n",
       "      <td>Agra Cantt</td>\n",
       "      <td>Agra Cantt, Agra</td>\n",
       "      <td>0.000000</td>\n",
       "      <td>0.000000</td>\n",
       "      <td>North Indian, Mughlai</td>\n",
       "      <td>...</td>\n",
       "      <td>Indian Rupees(Rs.)</td>\n",
       "      <td>No</td>\n",
       "      <td>No</td>\n",
       "      <td>No</td>\n",
       "      <td>No</td>\n",
       "      <td>2</td>\n",
       "      <td>3.5</td>\n",
       "      <td>Yellow</td>\n",
       "      <td>Good</td>\n",
       "      <td>71</td>\n",
       "    </tr>\n",
       "    <tr>\n",
       "      <th>626</th>\n",
       "      <td>3400005</td>\n",
       "      <td>Time2Eat - Mama Chicken</td>\n",
       "      <td>1</td>\n",
       "      <td>Agra</td>\n",
       "      <td>Main Market, Sadar Bazaar, Agra Cantt, Agra</td>\n",
       "      <td>Agra Cantt</td>\n",
       "      <td>Agra Cantt, Agra</td>\n",
       "      <td>78.011608</td>\n",
       "      <td>27.160832</td>\n",
       "      <td>North Indian</td>\n",
       "      <td>...</td>\n",
       "      <td>Indian Rupees(Rs.)</td>\n",
       "      <td>No</td>\n",
       "      <td>No</td>\n",
       "      <td>No</td>\n",
       "      <td>No</td>\n",
       "      <td>2</td>\n",
       "      <td>3.6</td>\n",
       "      <td>Yellow</td>\n",
       "      <td>Good</td>\n",
       "      <td>94</td>\n",
       "    </tr>\n",
       "    <tr>\n",
       "      <th>627</th>\n",
       "      <td>3400021</td>\n",
       "      <td>Chokho Jeeman Marwari Jain Bhojanalya</td>\n",
       "      <td>1</td>\n",
       "      <td>Agra</td>\n",
       "      <td>1/48, Delhi Gate, Station Road, Raja Mandi, Ci...</td>\n",
       "      <td>Civil Lines</td>\n",
       "      <td>Civil Lines, Agra</td>\n",
       "      <td>77.998092</td>\n",
       "      <td>27.195928</td>\n",
       "      <td>Rajasthani</td>\n",
       "      <td>...</td>\n",
       "      <td>Indian Rupees(Rs.)</td>\n",
       "      <td>No</td>\n",
       "      <td>No</td>\n",
       "      <td>No</td>\n",
       "      <td>No</td>\n",
       "      <td>2</td>\n",
       "      <td>4.0</td>\n",
       "      <td>Green</td>\n",
       "      <td>Very Good</td>\n",
       "      <td>87</td>\n",
       "    </tr>\n",
       "    <tr>\n",
       "      <th>628</th>\n",
       "      <td>3400017</td>\n",
       "      <td>Pinch Of Spice</td>\n",
       "      <td>1</td>\n",
       "      <td>Agra</td>\n",
       "      <td>23/453, Opposite Sanjay Cinema, Wazipura Road,...</td>\n",
       "      <td>Civil Lines</td>\n",
       "      <td>Civil Lines, Agra</td>\n",
       "      <td>78.007553</td>\n",
       "      <td>27.201725</td>\n",
       "      <td>North Indian, Chinese, Mughlai</td>\n",
       "      <td>...</td>\n",
       "      <td>Indian Rupees(Rs.)</td>\n",
       "      <td>No</td>\n",
       "      <td>No</td>\n",
       "      <td>No</td>\n",
       "      <td>No</td>\n",
       "      <td>3</td>\n",
       "      <td>4.2</td>\n",
       "      <td>Green</td>\n",
       "      <td>Very Good</td>\n",
       "      <td>177</td>\n",
       "    </tr>\n",
       "  </tbody>\n",
       "</table>\n",
       "<p>5 rows × 21 columns</p>\n",
       "</div>"
      ],
      "text/plain": [
       "     Restaurant ID                        Restaurant Name  Country Code  City  \\\n",
       "624        3400025                             Jahanpanah             1  Agra   \n",
       "625        3400341                    Rangrezz Restaurant             1  Agra   \n",
       "626        3400005                Time2Eat - Mama Chicken             1  Agra   \n",
       "627        3400021  Chokho Jeeman Marwari Jain Bhojanalya             1  Agra   \n",
       "628        3400017                         Pinch Of Spice             1  Agra   \n",
       "\n",
       "                                               Address     Locality  \\\n",
       "624  E 23, Shopping Arcade, Sadar Bazaar, Agra Cant...   Agra Cantt   \n",
       "625  E-20, Shopping Arcade, Sadar Bazaar, Agra Cant...   Agra Cantt   \n",
       "626        Main Market, Sadar Bazaar, Agra Cantt, Agra   Agra Cantt   \n",
       "627  1/48, Delhi Gate, Station Road, Raja Mandi, Ci...  Civil Lines   \n",
       "628  23/453, Opposite Sanjay Cinema, Wazipura Road,...  Civil Lines   \n",
       "\n",
       "      Locality Verbose  Longitude   Latitude                        Cuisines  \\\n",
       "624   Agra Cantt, Agra  78.011544  27.161661           North Indian, Mughlai   \n",
       "625   Agra Cantt, Agra   0.000000   0.000000           North Indian, Mughlai   \n",
       "626   Agra Cantt, Agra  78.011608  27.160832                    North Indian   \n",
       "627  Civil Lines, Agra  77.998092  27.195928                      Rajasthani   \n",
       "628  Civil Lines, Agra  78.007553  27.201725  North Indian, Chinese, Mughlai   \n",
       "\n",
       "     ...            Currency Has Table booking Has Online delivery  \\\n",
       "624  ...  Indian Rupees(Rs.)                No                  No   \n",
       "625  ...  Indian Rupees(Rs.)                No                  No   \n",
       "626  ...  Indian Rupees(Rs.)                No                  No   \n",
       "627  ...  Indian Rupees(Rs.)                No                  No   \n",
       "628  ...  Indian Rupees(Rs.)                No                  No   \n",
       "\n",
       "    Is delivering now Switch to order menu Price range  Aggregate rating  \\\n",
       "624                No                   No           3               3.9   \n",
       "625                No                   No           2               3.5   \n",
       "626                No                   No           2               3.6   \n",
       "627                No                   No           2               4.0   \n",
       "628                No                   No           3               4.2   \n",
       "\n",
       "     Rating color Rating text Votes  \n",
       "624        Yellow        Good   140  \n",
       "625        Yellow        Good    71  \n",
       "626        Yellow        Good    94  \n",
       "627         Green   Very Good    87  \n",
       "628         Green   Very Good   177  \n",
       "\n",
       "[5 rows x 21 columns]"
      ]
     },
     "execution_count": 6,
     "metadata": {},
     "output_type": "execute_result"
    }
   ],
   "source": [
    "df_India = df[df[\"Country Code\"]==1]\n",
    "df_India.head()"
   ]
  },
  {
   "cell_type": "code",
   "execution_count": 7,
   "metadata": {},
   "outputs": [
    {
     "data": {
      "text/html": [
       "<div>\n",
       "<style scoped>\n",
       "    .dataframe tbody tr th:only-of-type {\n",
       "        vertical-align: middle;\n",
       "    }\n",
       "\n",
       "    .dataframe tbody tr th {\n",
       "        vertical-align: top;\n",
       "    }\n",
       "\n",
       "    .dataframe thead th {\n",
       "        text-align: right;\n",
       "    }\n",
       "</style>\n",
       "<table border=\"1\" class=\"dataframe\">\n",
       "  <thead>\n",
       "    <tr style=\"text-align: right;\">\n",
       "      <th></th>\n",
       "      <th>Restaurant ID</th>\n",
       "      <th>Restaurant Name</th>\n",
       "      <th>Country Code</th>\n",
       "      <th>City</th>\n",
       "      <th>Address</th>\n",
       "      <th>Locality</th>\n",
       "      <th>Locality Verbose</th>\n",
       "      <th>Longitude</th>\n",
       "      <th>Latitude</th>\n",
       "      <th>Cuisines</th>\n",
       "      <th>...</th>\n",
       "      <th>Currency</th>\n",
       "      <th>Has Table booking</th>\n",
       "      <th>Has Online delivery</th>\n",
       "      <th>Is delivering now</th>\n",
       "      <th>Switch to order menu</th>\n",
       "      <th>Price range</th>\n",
       "      <th>Aggregate rating</th>\n",
       "      <th>Rating color</th>\n",
       "      <th>Rating text</th>\n",
       "      <th>Votes</th>\n",
       "    </tr>\n",
       "  </thead>\n",
       "  <tbody>\n",
       "    <tr>\n",
       "      <th>865</th>\n",
       "      <td>301728</td>\n",
       "      <td>Desire Foods</td>\n",
       "      <td>1</td>\n",
       "      <td>Faridabad</td>\n",
       "      <td>G 25/22, Main Road, 40 Feet, Molarband Extensi...</td>\n",
       "      <td>Badarpur Border</td>\n",
       "      <td>Badarpur Border, Faridabad</td>\n",
       "      <td>77.306640</td>\n",
       "      <td>28.490059</td>\n",
       "      <td>Chinese, Fast Food, Bakery</td>\n",
       "      <td>...</td>\n",
       "      <td>Indian Rupees(Rs.)</td>\n",
       "      <td>No</td>\n",
       "      <td>No</td>\n",
       "      <td>No</td>\n",
       "      <td>No</td>\n",
       "      <td>1</td>\n",
       "      <td>2.9</td>\n",
       "      <td>Orange</td>\n",
       "      <td>Average</td>\n",
       "      <td>4</td>\n",
       "    </tr>\n",
       "    <tr>\n",
       "      <th>866</th>\n",
       "      <td>5992</td>\n",
       "      <td>Knight Rock</td>\n",
       "      <td>1</td>\n",
       "      <td>Faridabad</td>\n",
       "      <td>11/6, Delhi Mathura Road, Near Bharat Petrol P...</td>\n",
       "      <td>Badarpur Border</td>\n",
       "      <td>Badarpur Border, Faridabad</td>\n",
       "      <td>77.304776</td>\n",
       "      <td>28.490157</td>\n",
       "      <td>North Indian, Chinese</td>\n",
       "      <td>...</td>\n",
       "      <td>Indian Rupees(Rs.)</td>\n",
       "      <td>No</td>\n",
       "      <td>No</td>\n",
       "      <td>No</td>\n",
       "      <td>No</td>\n",
       "      <td>2</td>\n",
       "      <td>2.8</td>\n",
       "      <td>Orange</td>\n",
       "      <td>Average</td>\n",
       "      <td>16</td>\n",
       "    </tr>\n",
       "  </tbody>\n",
       "</table>\n",
       "<p>2 rows × 21 columns</p>\n",
       "</div>"
      ],
      "text/plain": [
       "     Restaurant ID Restaurant Name  Country Code       City  \\\n",
       "865         301728    Desire Foods             1  Faridabad   \n",
       "866           5992     Knight Rock             1  Faridabad   \n",
       "\n",
       "                                               Address         Locality  \\\n",
       "865  G 25/22, Main Road, 40 Feet, Molarband Extensi...  Badarpur Border   \n",
       "866  11/6, Delhi Mathura Road, Near Bharat Petrol P...  Badarpur Border   \n",
       "\n",
       "               Locality Verbose  Longitude   Latitude  \\\n",
       "865  Badarpur Border, Faridabad  77.306640  28.490059   \n",
       "866  Badarpur Border, Faridabad  77.304776  28.490157   \n",
       "\n",
       "                       Cuisines  ...            Currency Has Table booking  \\\n",
       "865  Chinese, Fast Food, Bakery  ...  Indian Rupees(Rs.)                No   \n",
       "866       North Indian, Chinese  ...  Indian Rupees(Rs.)                No   \n",
       "\n",
       "    Has Online delivery Is delivering now Switch to order menu Price range  \\\n",
       "865                  No                No                   No           1   \n",
       "866                  No                No                   No           2   \n",
       "\n",
       "     Aggregate rating  Rating color Rating text Votes  \n",
       "865               2.9        Orange     Average     4  \n",
       "866               2.8        Orange     Average    16  \n",
       "\n",
       "[2 rows x 21 columns]"
      ]
     },
     "execution_count": 7,
     "metadata": {},
     "output_type": "execute_result"
    }
   ],
   "source": [
    "df_Delhi_NCR = df_India[(df_India[\"City\"]==\"New Delhi\")|(df_India[\"City\"]==\"Ghaziabad\")|(df_India[\"City\"]==\"Noida\")|(df_India[\"City\"]==\"Gurgaon\")|(df_India[\"City\"]==\"Faridabad\")]\n",
    "df_Delhi_NCR.head(2)"
   ]
  },
  {
   "cell_type": "code",
   "execution_count": 8,
   "metadata": {},
   "outputs": [
    {
     "data": {
      "text/html": [
       "<div>\n",
       "<style scoped>\n",
       "    .dataframe tbody tr th:only-of-type {\n",
       "        vertical-align: middle;\n",
       "    }\n",
       "\n",
       "    .dataframe tbody tr th {\n",
       "        vertical-align: top;\n",
       "    }\n",
       "\n",
       "    .dataframe thead th {\n",
       "        text-align: right;\n",
       "    }\n",
       "</style>\n",
       "<table border=\"1\" class=\"dataframe\">\n",
       "  <thead>\n",
       "    <tr style=\"text-align: right;\">\n",
       "      <th></th>\n",
       "      <th>Restaurant ID</th>\n",
       "      <th>Restaurant Name</th>\n",
       "      <th>Country Code</th>\n",
       "      <th>City</th>\n",
       "      <th>Address</th>\n",
       "      <th>Locality</th>\n",
       "      <th>Locality Verbose</th>\n",
       "      <th>Longitude</th>\n",
       "      <th>Latitude</th>\n",
       "      <th>Cuisines</th>\n",
       "      <th>...</th>\n",
       "      <th>Currency</th>\n",
       "      <th>Has Table booking</th>\n",
       "      <th>Has Online delivery</th>\n",
       "      <th>Is delivering now</th>\n",
       "      <th>Switch to order menu</th>\n",
       "      <th>Price range</th>\n",
       "      <th>Aggregate rating</th>\n",
       "      <th>Rating color</th>\n",
       "      <th>Rating text</th>\n",
       "      <th>Votes</th>\n",
       "    </tr>\n",
       "  </thead>\n",
       "  <tbody>\n",
       "    <tr>\n",
       "      <th>624</th>\n",
       "      <td>3400025</td>\n",
       "      <td>Jahanpanah</td>\n",
       "      <td>1</td>\n",
       "      <td>Agra</td>\n",
       "      <td>E 23, Shopping Arcade, Sadar Bazaar, Agra Cant...</td>\n",
       "      <td>Agra Cantt</td>\n",
       "      <td>Agra Cantt, Agra</td>\n",
       "      <td>78.011544</td>\n",
       "      <td>27.161661</td>\n",
       "      <td>North Indian, Mughlai</td>\n",
       "      <td>...</td>\n",
       "      <td>Indian Rupees(Rs.)</td>\n",
       "      <td>No</td>\n",
       "      <td>No</td>\n",
       "      <td>No</td>\n",
       "      <td>No</td>\n",
       "      <td>3</td>\n",
       "      <td>3.9</td>\n",
       "      <td>Yellow</td>\n",
       "      <td>Good</td>\n",
       "      <td>140</td>\n",
       "    </tr>\n",
       "    <tr>\n",
       "      <th>625</th>\n",
       "      <td>3400341</td>\n",
       "      <td>Rangrezz Restaurant</td>\n",
       "      <td>1</td>\n",
       "      <td>Agra</td>\n",
       "      <td>E-20, Shopping Arcade, Sadar Bazaar, Agra Cant...</td>\n",
       "      <td>Agra Cantt</td>\n",
       "      <td>Agra Cantt, Agra</td>\n",
       "      <td>0.000000</td>\n",
       "      <td>0.000000</td>\n",
       "      <td>North Indian, Mughlai</td>\n",
       "      <td>...</td>\n",
       "      <td>Indian Rupees(Rs.)</td>\n",
       "      <td>No</td>\n",
       "      <td>No</td>\n",
       "      <td>No</td>\n",
       "      <td>No</td>\n",
       "      <td>2</td>\n",
       "      <td>3.5</td>\n",
       "      <td>Yellow</td>\n",
       "      <td>Good</td>\n",
       "      <td>71</td>\n",
       "    </tr>\n",
       "  </tbody>\n",
       "</table>\n",
       "<p>2 rows × 21 columns</p>\n",
       "</div>"
      ],
      "text/plain": [
       "     Restaurant ID      Restaurant Name  Country Code  City  \\\n",
       "624        3400025           Jahanpanah             1  Agra   \n",
       "625        3400341  Rangrezz Restaurant             1  Agra   \n",
       "\n",
       "                                               Address    Locality  \\\n",
       "624  E 23, Shopping Arcade, Sadar Bazaar, Agra Cant...  Agra Cantt   \n",
       "625  E-20, Shopping Arcade, Sadar Bazaar, Agra Cant...  Agra Cantt   \n",
       "\n",
       "     Locality Verbose  Longitude   Latitude               Cuisines  ...  \\\n",
       "624  Agra Cantt, Agra  78.011544  27.161661  North Indian, Mughlai  ...   \n",
       "625  Agra Cantt, Agra   0.000000   0.000000  North Indian, Mughlai  ...   \n",
       "\n",
       "               Currency Has Table booking Has Online delivery  \\\n",
       "624  Indian Rupees(Rs.)                No                  No   \n",
       "625  Indian Rupees(Rs.)                No                  No   \n",
       "\n",
       "    Is delivering now Switch to order menu Price range  Aggregate rating  \\\n",
       "624                No                   No           3               3.9   \n",
       "625                No                   No           2               3.5   \n",
       "\n",
       "     Rating color Rating text Votes  \n",
       "624        Yellow        Good   140  \n",
       "625        Yellow        Good    71  \n",
       "\n",
       "[2 rows x 21 columns]"
      ]
     },
     "execution_count": 8,
     "metadata": {},
     "output_type": "execute_result"
    }
   ],
   "source": [
    "df_ROI = df_India[(df_India[\"City\"]!=\"New Delhi\")&(df_India[\"City\"]!=\"Ghaziabad\")&(df_India[\"City\"]!=\"Noida\")&(df_India[\"City\"]!=\"Gurgaon\")&(df_India[\"City\"]!=\"Faridabad\")]\n",
    "df_ROI.head(2)"
   ]
  },
  {
   "cell_type": "markdown",
   "metadata": {},
   "source": [
    "# 1 The dataset is highly skewed toward the cities included in Delhi-NCR. So, we will summarise all the other cities in Rest of India while those in New Delhi, Ghaziabad, Noida, Gurgaon, Faridabad to Delhi-NCR. Doing this would make our analysis turn toward Delhi-NCR v Rest of India."
   ]
  },
  {
   "cell_type": "markdown",
   "metadata": {},
   "source": [
    "### 1. Plot the bar graph of number of restaurants present in Delhi NCR vs Rest of India."
   ]
  },
  {
   "cell_type": "markdown",
   "metadata": {},
   "source": [
    "### Explaination and Answer :- In this firstly we will find the length of df_Delhi_NCR and df_ROI which will give number of restaurants present in Delhi NCR and Rest of India and now we will plot a bar graph of this data using the matplotlib. Number of restaurants present in Delhi NCR and Rest of India are:-\n",
    "•\tDelhi-NCR 7947\n",
    "•\tRest of India 705\n"
   ]
  },
  {
   "cell_type": "code",
   "execution_count": 9,
   "metadata": {},
   "outputs": [
    {
     "data": {
      "image/png": "[encoded data removed]",
      "text/plain": [
       "<Figure size 432x288 with 1 Axes>"
      ]
     },
     "metadata": {
      "needs_background": "light"
     },
     "output_type": "display_data"
    },
    {
     "name": "stdout",
     "output_type": "stream",
     "text": [
      "Delhi-NCR 7947\n",
      "Rest of India 705\n"
     ]
    }
   ],
   "source": [
    "Delhi_NCR = len(df_Delhi_NCR)\n",
    "ROI = len(df_ROI)\n",
    "li = [Delhi_NCR,ROI]\n",
    "label = [\"Delhi-NCR\",\"Rest of India\"]\n",
    "plt.bar(label,li)\n",
    "plt.title(\"Number of Restaurants in Delhi-NCR VS Rest Of India\")\n",
    "plt.xlabel(\"Cities\")\n",
    "plt.ylabel(\"Number of Restaurants\")\n",
    "plt.grid()\n",
    "plt.show()\n",
    "for i in range(2):\n",
    "    print(label[i],li[i])"
   ]
  },
  {
   "cell_type": "markdown",
   "metadata": {},
   "source": [
    "### 2. Find the cuisines which are not present in restaurant of Delhi NCR but present in rest of India.Check using Zomato API whether this cuisines are actually not served in restaurants of Delhi-NCR or just it due to incomplete dataset."
   ]
  },
  {
   "cell_type": "markdown",
   "metadata": {},
   "source": [
    "### Explaination and Answer:- In this we will extract the values of cuisines in the form of list from the df_Delhi_NCR and df_ROI respectively and apply a function named cuisines which will return the list of cuisines in that region. After that we will run a for loop and check the cuisines that are not served in Delhi-NCR. The cuisines which are not present in restaurant of Delhi NCR but present in rest of India are:-\n",
    "•\tGerman\n",
    "•\tMalwani\n",
    "•\tBBQ\n",
    "•\tCajun\n",
    "### Now we will use the zomato-api to check whether these cuisines are actually not served in restaurants of Delhi-NCR or just it due to incomplete dataset. Firstly we will generate a zomato api key from the website and use it as a user-key in headers. Now we will find the city id for Delhi-NCR region by making a get request to  https://developers.zomato.com/api/v2.1/cities and passing headers and params. After obtaining the city id we will make a get request to https://developers.zomato.com/api/v2.1/cuisines by passing the headers as user-key and params as city id which will give all the cuisines served in the Delhi-NCR region. So the cuisines which are not present in restaurant of Delhi NCR but present in rest of India are:-\n",
    "•\tGerman\n",
    "•\tCajun\n"
   ]
  },
  {
   "cell_type": "code",
   "execution_count": 10,
   "metadata": {
    "scrolled": false
   },
   "outputs": [],
   "source": [
    "def cuisines(li):\n",
    "    li1 = []\n",
    "    for row in li:\n",
    "        cuisines = row.strip().split(\",\")\n",
    "        for cuisine in cuisines:\n",
    "            cuisine = cuisine.strip()\n",
    "            if cuisine not in li1:\n",
    "                li1.append(cuisine)\n",
    "    return li1\n",
    "\n",
    "cuisines_in_DNCR = cuisines(df_Delhi_NCR[\"Cuisines\"].values)\n",
    "cuisines_in_ROI = cuisines(df_ROI[\"Cuisines\"].values)"
   ]
  },
  {
   "cell_type": "code",
   "execution_count": 11,
   "metadata": {},
   "outputs": [],
   "source": [
    "cuisines_not_in_DNCR = []\n",
    "for cuisines in cuisines_in_ROI:\n",
    "    if cuisines not in cuisines_in_DNCR:\n",
    "        cuisines_not_in_DNCR.append(cuisines)"
   ]
  },
  {
   "cell_type": "code",
   "execution_count": 12,
   "metadata": {},
   "outputs": [
    {
     "name": "stdout",
     "output_type": "stream",
     "text": [
      "Cuisines which are not present in restaurant of Delhi NCR but present in Rest of India are German Malwani BBQ Cajun\n"
     ]
    }
   ],
   "source": [
    "print(\"Cuisines which are not present in restaurant of Delhi NCR but present in Rest of India are\",*cuisines_not_in_DNCR)"
   ]
  },
  {
   "cell_type": "code",
   "execution_count": 13,
   "metadata": {},
   "outputs": [],
   "source": [
    "h={\"user-key\":\"33f63ed15365921c3c1b6f01ed0fd123\"}\n",
    "p = {\"q\":\"Delhi NCR\"}\n",
    "response=requests.get(\"https://developers.zomato.com/api/v2.1/cities\",headers=h,params=p)\n",
    "data = response.json()\n",
    "city_id = 0\n",
    "for row in data[\"location_suggestions\"]:\n",
    "    if row[\"name\"]==\"Delhi NCR\":\n",
    "        city_id = row[\"id\"]\n",
    "        break\n",
    "\n",
    "response_2 = requests.get(\"https://developers.zomato.com/api/v2.1/cuisines\",headers = h,params = {\"city_id\":city_id})\n",
    "cuisines_data = response_2.json()[\"cuisines\"]\n",
    "all_cuisines_in_DNCR=[]\n",
    "for row in cuisines_data:\n",
    "    all_cuisines_in_DNCR.append(row[\"cuisine\"][\"cuisine_name\"])"
   ]
  },
  {
   "cell_type": "code",
   "execution_count": 14,
   "metadata": {},
   "outputs": [],
   "source": [
    "discrepancy_in_cuisines=[]\n",
    "for cuisine in cuisines_not_in_DNCR:\n",
    "    if cuisine in all_cuisines_in_DNCR:\n",
    "        discrepancy_in_cuisines.append(cuisine)"
   ]
  },
  {
   "cell_type": "code",
   "execution_count": 15,
   "metadata": {},
   "outputs": [
    {
     "name": "stdout",
     "output_type": "stream",
     "text": [
      "Cuisines that are served in Delhi-NCR are  Malwani BBQ But due to incomplete dataset they were not served in Delhi-NCR\n"
     ]
    }
   ],
   "source": [
    "print(\"Cuisines that are served in Delhi-NCR are \",*discrepancy_in_cuisines,\"But due to incomplete dataset they were not served in Delhi-NCR\")"
   ]
  },
  {
   "cell_type": "markdown",
   "metadata": {},
   "source": [
    "### 3. Find the top 10 cuisines served by maximum number of restaurants in Delhi NCR and rest of India."
   ]
  },
  {
   "cell_type": "markdown",
   "metadata": {},
   "source": [
    "### Explaination and Answer:- In order to find the top 10 cuisines served by maximum number of restaurants in Delhi NCR and rest of India we will firstly extract the cuisines from df_India and run through a function cuisines which will return a dictionary with cuisine and count as a key-value pair. Now we will a sort the dictionary in reverse order on the basis of count and make it into the list and extract the top 10 from the list. So the top 10 cuisines served by maximum number of restaurants in Delhi NCR and rest of India are:-\n",
    "•\tf-India\n",
    "•\tNorth Indian\n",
    "•\tChinese\n",
    "•\tFast Food\n",
    "•\tMughlai\n",
    "•\tBakery\n",
    "•\tContinental\n",
    "•\tItalian\n",
    "•\tSouth Indian\n",
    "•\tCafe\n",
    "•\tDesserts\n",
    "\n"
   ]
  },
  {
   "cell_type": "code",
   "execution_count": 16,
   "metadata": {},
   "outputs": [],
   "source": [
    "def cuisines(li):\n",
    "    d={}\n",
    "    for row in li:\n",
    "        cuisines = row.strip().split(\",\")\n",
    "        for cuisine in cuisines:\n",
    "            cuisine = cuisine.strip()\n",
    "            d[cuisine] = d.get(cuisine,0) + 1\n",
    "    return d\n",
    "\n",
    "cuisines_serve_by_max_restaurant_in_DNCR1 = cuisines(df_Delhi_NCR[\"Cuisines\"].values)\n",
    "cuisines_serve_by_max_restaurant_in_ROI1 = cuisines(df_ROI[\"Cuisines\"].values)\n",
    "cuisines_serve_by_max_restaurant_in_DNCR1andROI1 = cuisines(df_India[\"Cuisines\"].values)"
   ]
  },
  {
   "cell_type": "code",
   "execution_count": 17,
   "metadata": {},
   "outputs": [
    {
     "name": "stdout",
     "output_type": "stream",
     "text": [
      "Top 10 cuisines served by maximum number of restaurants in Delhi-NCR and Rest-Of-India\n",
      "North Indian\n",
      "Chinese\n",
      "Fast Food\n",
      "Mughlai\n",
      "Bakery\n",
      "Continental\n",
      "Italian\n",
      "South Indian\n",
      "Cafe\n",
      "Desserts\n"
     ]
    }
   ],
   "source": [
    "cuisines_serve_by_max_restaurant_in_DNCRandROI = sorted(cuisines_serve_by_max_restaurant_in_DNCR1andROI1.items(),key=operator.itemgetter(1),reverse=True)\n",
    "print(\"Top 10 cuisines served by maximum number of restaurants in Delhi-NCR and Rest-Of-India\")\n",
    "for row in cuisines_serve_by_max_restaurant_in_DNCRandROI[:10]:\n",
    "    print(row[0])"
   ]
  },
  {
   "cell_type": "code",
   "execution_count": 18,
   "metadata": {
    "scrolled": true
   },
   "outputs": [
    {
     "name": "stdout",
     "output_type": "stream",
     "text": [
      "Top 10 cuisines served by maximum number of restaurants in Delhi-NCR\n",
      "North Indian\n",
      "Chinese\n",
      "Fast Food\n",
      "Mughlai\n",
      "Bakery\n",
      "South Indian\n",
      "Continental\n",
      "Desserts\n",
      "Street Food\n",
      "Italian\n"
     ]
    }
   ],
   "source": [
    "cuisines_serve_by_max_restaurant_in_DNCR= sorted(cuisines_serve_by_max_restaurant_in_DNCR1.items(),key=operator.itemgetter(1),reverse=True)\n",
    "print(\"Top 10 cuisines served by maximum number of restaurants in Delhi-NCR\")\n",
    "for row in cuisines_serve_by_max_restaurant_in_DNCR[:10]:\n",
    "    print(row[0])"
   ]
  },
  {
   "cell_type": "code",
   "execution_count": 19,
   "metadata": {
    "scrolled": false
   },
   "outputs": [
    {
     "name": "stdout",
     "output_type": "stream",
     "text": [
      "Top 10 cuisines served by maximum number of restaurants in Rest-of-India\n",
      "North Indian\n",
      "Chinese\n",
      "Continental\n",
      "Italian\n",
      "Cafe\n",
      "Fast Food\n",
      "South Indian\n",
      "Mughlai\n",
      "Desserts\n",
      "Mexican\n"
     ]
    }
   ],
   "source": [
    "cuisines_serve_by_max_restaurant_in_ROI= sorted(cuisines_serve_by_max_restaurant_in_ROI1.items(),key=operator.itemgetter(1),reverse=True)\n",
    "print(\"Top 10 cuisines served by maximum number of restaurants in Rest-of-India\")\n",
    "for row in cuisines_serve_by_max_restaurant_in_ROI[:10]:\n",
    "    print(row[0])"
   ]
  },
  {
   "cell_type": "markdown",
   "metadata": {},
   "source": [
    "### 4. Write a short detailed analysis of how cuisine served is different from Delhi NCR to Rest of India. Plot the suitable graph to explain your inference"
   ]
  },
  {
   "cell_type": "markdown",
   "metadata": {},
   "source": [
    "### Explaination and Answer:- In this we will compare the two regions on the basis of cuisines and number of restaurants serving the cuisines. As done previously we will extract the top 10 cuisines in Delhi-NCR and ROI separately and plot the two line graphs accordingly"
   ]
  },
  {
   "cell_type": "code",
   "execution_count": 20,
   "metadata": {
    "scrolled": true
   },
   "outputs": [
    {
     "data": {
      "image/png": "[encoded data removed]",
      "text/plain": [
       "<Figure size 432x288 with 1 Axes>"
      ]
     },
     "metadata": {
      "needs_background": "light"
     },
     "output_type": "display_data"
    }
   ],
   "source": [
    "li_DNCR_cuisines = []\n",
    "li_DNCR_count_cuisines = []\n",
    "for row in cuisines_serve_by_max_restaurant_in_DNCR[:10]:\n",
    "    li_DNCR_cuisines.append(row[0])\n",
    "    li_DNCR_count_cuisines.append(row[1])\n",
    "plt.plot(li_DNCR_cuisines,li_DNCR_count_cuisines)\n",
    "plt.xlabel(\"Cuisines\",fontweight=\"bold\")\n",
    "plt.ylabel(\"Number of Restaurants have these cuisines\",fontweight=\"bold\")\n",
    "plt.title(\"Cuisines In DELHI-NCR\",fontweight=\"bold\")\n",
    "plt.grid()\n",
    "plt.xticks(rotation=90)\n",
    "plt.show()\n"
   ]
  },
  {
   "cell_type": "code",
   "execution_count": 21,
   "metadata": {
    "scrolled": true
   },
   "outputs": [
    {
     "data": {
      "image/png": "[encoded data removed]",
      "text/plain": [
       "<Figure size 432x288 with 1 Axes>"
      ]
     },
     "metadata": {
      "needs_background": "light"
     },
     "output_type": "display_data"
    }
   ],
   "source": [
    "li_ROI_cuisines = []\n",
    "li_ROI_count_cuisines = []\n",
    "for row in cuisines_serve_by_max_restaurant_in_ROI[:10]:\n",
    "    li_ROI_cuisines.append(row[0])\n",
    "    li_ROI_count_cuisines.append(row[1])\n",
    "plt.plot(li_ROI_cuisines,li_ROI_count_cuisines,c=\"r\")\n",
    "plt.xlabel(\"Cuisines\",fontweight=\"bold\")\n",
    "plt.ylabel(\"Number of Restaurants have these cuisines\",fontweight=\"bold\")\n",
    "plt.title(\"Cuisines In Rest-of-India\",fontweight=\"bold\")\n",
    "plt.grid()\n",
    "plt.xticks(rotation=90)\n",
    "plt.show()"
   ]
  },
  {
   "cell_type": "code",
   "execution_count": 22,
   "metadata": {},
   "outputs": [
    {
     "name": "stdout",
     "output_type": "stream",
     "text": [
      "86\n",
      "70\n"
     ]
    }
   ],
   "source": [
    "print(len(cuisines_in_DNCR))\n",
    "print(len(cuisines_in_ROI))"
   ]
  },
  {
   "cell_type": "markdown",
   "metadata": {},
   "source": [
    "### From the above two graphs we can see that in Delhi-NCR region there are more than 3500 restaurants selling North Indian cuisine while there are only 350 restaurants which sell North Indian cuisine in the Rest of India which is a lot of difference. Moving on to Chinese cuisine there are about 2500 restaurants selling Chinese cuisine in Delhi-NCR while there are about 250 restaurants which sell Chinese cuisine in the Rest of India. Moreover there are 86 cuisines that are sold in Delhi-NCR region while there are 70 cuisines sold in Rest of India.This makes a huge difference as Delhi-NCR region restaurants sell more cuisines than that of Rest of India"
   ]
  },
  {
   "cell_type": "markdown",
   "metadata": {},
   "source": [
    "# 2. User Rating of a restaurant plays a crucial role in selecting a restaurant or ordering the food from the restaurant."
   ]
  },
  {
   "cell_type": "markdown",
   "metadata": {},
   "source": [
    "### Firstly we will make a copy of the df_India and store it in df_2."
   ]
  },
  {
   "cell_type": "code",
   "execution_count": 23,
   "metadata": {
    "scrolled": true
   },
   "outputs": [
    {
     "data": {
      "text/html": [
       "<div>\n",
       "<style scoped>\n",
       "    .dataframe tbody tr th:only-of-type {\n",
       "        vertical-align: middle;\n",
       "    }\n",
       "\n",
       "    .dataframe tbody tr th {\n",
       "        vertical-align: top;\n",
       "    }\n",
       "\n",
       "    .dataframe thead th {\n",
       "        text-align: right;\n",
       "    }\n",
       "</style>\n",
       "<table border=\"1\" class=\"dataframe\">\n",
       "  <thead>\n",
       "    <tr style=\"text-align: right;\">\n",
       "      <th></th>\n",
       "      <th>Restaurant ID</th>\n",
       "      <th>Restaurant Name</th>\n",
       "      <th>Country Code</th>\n",
       "      <th>City</th>\n",
       "      <th>Address</th>\n",
       "      <th>Locality</th>\n",
       "      <th>Locality Verbose</th>\n",
       "      <th>Longitude</th>\n",
       "      <th>Latitude</th>\n",
       "      <th>Cuisines</th>\n",
       "      <th>...</th>\n",
       "      <th>Currency</th>\n",
       "      <th>Has Table booking</th>\n",
       "      <th>Has Online delivery</th>\n",
       "      <th>Is delivering now</th>\n",
       "      <th>Switch to order menu</th>\n",
       "      <th>Price range</th>\n",
       "      <th>Aggregate rating</th>\n",
       "      <th>Rating color</th>\n",
       "      <th>Rating text</th>\n",
       "      <th>Votes</th>\n",
       "    </tr>\n",
       "  </thead>\n",
       "  <tbody>\n",
       "    <tr>\n",
       "      <th>624</th>\n",
       "      <td>3400025</td>\n",
       "      <td>Jahanpanah</td>\n",
       "      <td>1</td>\n",
       "      <td>Agra</td>\n",
       "      <td>E 23, Shopping Arcade, Sadar Bazaar, Agra Cant...</td>\n",
       "      <td>Agra Cantt</td>\n",
       "      <td>Agra Cantt, Agra</td>\n",
       "      <td>78.011544</td>\n",
       "      <td>27.161661</td>\n",
       "      <td>North Indian, Mughlai</td>\n",
       "      <td>...</td>\n",
       "      <td>Indian Rupees(Rs.)</td>\n",
       "      <td>No</td>\n",
       "      <td>No</td>\n",
       "      <td>No</td>\n",
       "      <td>No</td>\n",
       "      <td>3</td>\n",
       "      <td>3.9</td>\n",
       "      <td>Yellow</td>\n",
       "      <td>Good</td>\n",
       "      <td>140</td>\n",
       "    </tr>\n",
       "    <tr>\n",
       "      <th>625</th>\n",
       "      <td>3400341</td>\n",
       "      <td>Rangrezz Restaurant</td>\n",
       "      <td>1</td>\n",
       "      <td>Agra</td>\n",
       "      <td>E-20, Shopping Arcade, Sadar Bazaar, Agra Cant...</td>\n",
       "      <td>Agra Cantt</td>\n",
       "      <td>Agra Cantt, Agra</td>\n",
       "      <td>0.000000</td>\n",
       "      <td>0.000000</td>\n",
       "      <td>North Indian, Mughlai</td>\n",
       "      <td>...</td>\n",
       "      <td>Indian Rupees(Rs.)</td>\n",
       "      <td>No</td>\n",
       "      <td>No</td>\n",
       "      <td>No</td>\n",
       "      <td>No</td>\n",
       "      <td>2</td>\n",
       "      <td>3.5</td>\n",
       "      <td>Yellow</td>\n",
       "      <td>Good</td>\n",
       "      <td>71</td>\n",
       "    </tr>\n",
       "    <tr>\n",
       "      <th>626</th>\n",
       "      <td>3400005</td>\n",
       "      <td>Time2Eat - Mama Chicken</td>\n",
       "      <td>1</td>\n",
       "      <td>Agra</td>\n",
       "      <td>Main Market, Sadar Bazaar, Agra Cantt, Agra</td>\n",
       "      <td>Agra Cantt</td>\n",
       "      <td>Agra Cantt, Agra</td>\n",
       "      <td>78.011608</td>\n",
       "      <td>27.160832</td>\n",
       "      <td>North Indian</td>\n",
       "      <td>...</td>\n",
       "      <td>Indian Rupees(Rs.)</td>\n",
       "      <td>No</td>\n",
       "      <td>No</td>\n",
       "      <td>No</td>\n",
       "      <td>No</td>\n",
       "      <td>2</td>\n",
       "      <td>3.6</td>\n",
       "      <td>Yellow</td>\n",
       "      <td>Good</td>\n",
       "      <td>94</td>\n",
       "    </tr>\n",
       "  </tbody>\n",
       "</table>\n",
       "<p>3 rows × 21 columns</p>\n",
       "</div>"
      ],
      "text/plain": [
       "     Restaurant ID          Restaurant Name  Country Code  City  \\\n",
       "624        3400025               Jahanpanah             1  Agra   \n",
       "625        3400341      Rangrezz Restaurant             1  Agra   \n",
       "626        3400005  Time2Eat - Mama Chicken             1  Agra   \n",
       "\n",
       "                                               Address    Locality  \\\n",
       "624  E 23, Shopping Arcade, Sadar Bazaar, Agra Cant...  Agra Cantt   \n",
       "625  E-20, Shopping Arcade, Sadar Bazaar, Agra Cant...  Agra Cantt   \n",
       "626        Main Market, Sadar Bazaar, Agra Cantt, Agra  Agra Cantt   \n",
       "\n",
       "     Locality Verbose  Longitude   Latitude               Cuisines  ...  \\\n",
       "624  Agra Cantt, Agra  78.011544  27.161661  North Indian, Mughlai  ...   \n",
       "625  Agra Cantt, Agra   0.000000   0.000000  North Indian, Mughlai  ...   \n",
       "626  Agra Cantt, Agra  78.011608  27.160832           North Indian  ...   \n",
       "\n",
       "               Currency Has Table booking Has Online delivery  \\\n",
       "624  Indian Rupees(Rs.)                No                  No   \n",
       "625  Indian Rupees(Rs.)                No                  No   \n",
       "626  Indian Rupees(Rs.)                No                  No   \n",
       "\n",
       "    Is delivering now Switch to order menu Price range  Aggregate rating  \\\n",
       "624                No                   No           3               3.9   \n",
       "625                No                   No           2               3.5   \n",
       "626                No                   No           2               3.6   \n",
       "\n",
       "     Rating color Rating text Votes  \n",
       "624        Yellow        Good   140  \n",
       "625        Yellow        Good    71  \n",
       "626        Yellow        Good    94  \n",
       "\n",
       "[3 rows x 21 columns]"
      ]
     },
     "execution_count": 23,
     "metadata": {},
     "output_type": "execute_result"
    }
   ],
   "source": [
    "df_2 = df_India.copy()\n",
    "df_2.head(3)"
   ]
  },
  {
   "cell_type": "markdown",
   "metadata": {},
   "source": [
    "## 1. Write a short detail analysis of how the rating is affected by restaurant due following features: Plot a suitable graph to explain your inference."
   ]
  },
  {
   "cell_type": "markdown",
   "metadata": {},
   "source": [
    "### Number of Votes given Restaurant"
   ]
  },
  {
   "cell_type": "markdown",
   "metadata": {},
   "source": [
    "### Explaination and Answer :- We will now group the df_2 by Aggregate rating and find the mean of votes and sort them according to index in ascending order. We will extract the rating from the index and the votes from the values and plot a line graph between the rating and the votes.\n"
   ]
  },
  {
   "cell_type": "code",
   "execution_count": 24,
   "metadata": {},
   "outputs": [
    {
     "data": {
      "image/png": "[encoded data removed]",
      "text/plain": [
       "<Figure size 432x288 with 1 Axes>"
      ]
     },
     "metadata": {
      "needs_background": "light"
     },
     "output_type": "display_data"
    }
   ],
   "source": [
    "rating_and_votes = df_2.groupby(\"Aggregate rating\")[\"Votes\"].mean().sort_index(ascending=True)\n",
    "rating = rating_and_votes.index\n",
    "votes = rating_and_votes.values\n",
    "plt.plot(rating,votes)\n",
    "plt.xlabel(\"Aggregate Rating\",fontweight=\"bold\")\n",
    "plt.ylabel(\"Total Votes\",fontweight=\"bold\")\n",
    "plt.title(\"Aggregate Rating Vs Votes\",fontweight=\"bold\")\n",
    "plt.show()"
   ]
  },
  {
   "cell_type": "markdown",
   "metadata": {},
   "source": [
    "### Answer :-  From the given graph we can see that number of votes have huge impact on the ratings.So with increase in number of votes it results in increase of rating"
   ]
  },
  {
   "cell_type": "markdown",
   "metadata": {},
   "source": [
    "### 2. Restaurant serving more number of cuisines."
   ]
  },
  {
   "cell_type": "markdown",
   "metadata": {},
   "source": [
    "### Explaination and Answer:- In this we will make a new column in df_2 named Cuisines_count with the help of count_cuisines function which returns the count of the cuisines a restaurant  serves. Now We will group the df_2 by Aggregate rating and find the mean of Cuisines_count and sort them according to index in ascending order. We will extract the rating from the index and the Cuisines_count from the values and plot a line graph between the rating and the votes."
   ]
  },
  {
   "cell_type": "code",
   "execution_count": 25,
   "metadata": {},
   "outputs": [
    {
     "data": {
      "text/html": [
       "<div>\n",
       "<style scoped>\n",
       "    .dataframe tbody tr th:only-of-type {\n",
       "        vertical-align: middle;\n",
       "    }\n",
       "\n",
       "    .dataframe tbody tr th {\n",
       "        vertical-align: top;\n",
       "    }\n",
       "\n",
       "    .dataframe thead th {\n",
       "        text-align: right;\n",
       "    }\n",
       "</style>\n",
       "<table border=\"1\" class=\"dataframe\">\n",
       "  <thead>\n",
       "    <tr style=\"text-align: right;\">\n",
       "      <th></th>\n",
       "      <th>Restaurant ID</th>\n",
       "      <th>Restaurant Name</th>\n",
       "      <th>Country Code</th>\n",
       "      <th>City</th>\n",
       "      <th>Address</th>\n",
       "      <th>Locality</th>\n",
       "      <th>Locality Verbose</th>\n",
       "      <th>Longitude</th>\n",
       "      <th>Latitude</th>\n",
       "      <th>Cuisines</th>\n",
       "      <th>...</th>\n",
       "      <th>Has Table booking</th>\n",
       "      <th>Has Online delivery</th>\n",
       "      <th>Is delivering now</th>\n",
       "      <th>Switch to order menu</th>\n",
       "      <th>Price range</th>\n",
       "      <th>Aggregate rating</th>\n",
       "      <th>Rating color</th>\n",
       "      <th>Rating text</th>\n",
       "      <th>Votes</th>\n",
       "      <th>Cuisines_count</th>\n",
       "    </tr>\n",
       "  </thead>\n",
       "  <tbody>\n",
       "    <tr>\n",
       "      <th>624</th>\n",
       "      <td>3400025</td>\n",
       "      <td>Jahanpanah</td>\n",
       "      <td>1</td>\n",
       "      <td>Agra</td>\n",
       "      <td>E 23, Shopping Arcade, Sadar Bazaar, Agra Cant...</td>\n",
       "      <td>Agra Cantt</td>\n",
       "      <td>Agra Cantt, Agra</td>\n",
       "      <td>78.011544</td>\n",
       "      <td>27.161661</td>\n",
       "      <td>North Indian, Mughlai</td>\n",
       "      <td>...</td>\n",
       "      <td>No</td>\n",
       "      <td>No</td>\n",
       "      <td>No</td>\n",
       "      <td>No</td>\n",
       "      <td>3</td>\n",
       "      <td>3.9</td>\n",
       "      <td>Yellow</td>\n",
       "      <td>Good</td>\n",
       "      <td>140</td>\n",
       "      <td>2</td>\n",
       "    </tr>\n",
       "    <tr>\n",
       "      <th>625</th>\n",
       "      <td>3400341</td>\n",
       "      <td>Rangrezz Restaurant</td>\n",
       "      <td>1</td>\n",
       "      <td>Agra</td>\n",
       "      <td>E-20, Shopping Arcade, Sadar Bazaar, Agra Cant...</td>\n",
       "      <td>Agra Cantt</td>\n",
       "      <td>Agra Cantt, Agra</td>\n",
       "      <td>0.000000</td>\n",
       "      <td>0.000000</td>\n",
       "      <td>North Indian, Mughlai</td>\n",
       "      <td>...</td>\n",
       "      <td>No</td>\n",
       "      <td>No</td>\n",
       "      <td>No</td>\n",
       "      <td>No</td>\n",
       "      <td>2</td>\n",
       "      <td>3.5</td>\n",
       "      <td>Yellow</td>\n",
       "      <td>Good</td>\n",
       "      <td>71</td>\n",
       "      <td>2</td>\n",
       "    </tr>\n",
       "    <tr>\n",
       "      <th>626</th>\n",
       "      <td>3400005</td>\n",
       "      <td>Time2Eat - Mama Chicken</td>\n",
       "      <td>1</td>\n",
       "      <td>Agra</td>\n",
       "      <td>Main Market, Sadar Bazaar, Agra Cantt, Agra</td>\n",
       "      <td>Agra Cantt</td>\n",
       "      <td>Agra Cantt, Agra</td>\n",
       "      <td>78.011608</td>\n",
       "      <td>27.160832</td>\n",
       "      <td>North Indian</td>\n",
       "      <td>...</td>\n",
       "      <td>No</td>\n",
       "      <td>No</td>\n",
       "      <td>No</td>\n",
       "      <td>No</td>\n",
       "      <td>2</td>\n",
       "      <td>3.6</td>\n",
       "      <td>Yellow</td>\n",
       "      <td>Good</td>\n",
       "      <td>94</td>\n",
       "      <td>1</td>\n",
       "    </tr>\n",
       "  </tbody>\n",
       "</table>\n",
       "<p>3 rows × 22 columns</p>\n",
       "</div>"
      ],
      "text/plain": [
       "     Restaurant ID          Restaurant Name  Country Code  City  \\\n",
       "624        3400025               Jahanpanah             1  Agra   \n",
       "625        3400341      Rangrezz Restaurant             1  Agra   \n",
       "626        3400005  Time2Eat - Mama Chicken             1  Agra   \n",
       "\n",
       "                                               Address    Locality  \\\n",
       "624  E 23, Shopping Arcade, Sadar Bazaar, Agra Cant...  Agra Cantt   \n",
       "625  E-20, Shopping Arcade, Sadar Bazaar, Agra Cant...  Agra Cantt   \n",
       "626        Main Market, Sadar Bazaar, Agra Cantt, Agra  Agra Cantt   \n",
       "\n",
       "     Locality Verbose  Longitude   Latitude               Cuisines  ...  \\\n",
       "624  Agra Cantt, Agra  78.011544  27.161661  North Indian, Mughlai  ...   \n",
       "625  Agra Cantt, Agra   0.000000   0.000000  North Indian, Mughlai  ...   \n",
       "626  Agra Cantt, Agra  78.011608  27.160832           North Indian  ...   \n",
       "\n",
       "     Has Table booking Has Online delivery Is delivering now  \\\n",
       "624                 No                  No                No   \n",
       "625                 No                  No                No   \n",
       "626                 No                  No                No   \n",
       "\n",
       "    Switch to order menu Price range Aggregate rating  Rating color  \\\n",
       "624                   No           3              3.9        Yellow   \n",
       "625                   No           2              3.5        Yellow   \n",
       "626                   No           2              3.6        Yellow   \n",
       "\n",
       "     Rating text Votes Cuisines_count  \n",
       "624         Good   140              2  \n",
       "625         Good    71              2  \n",
       "626         Good    94              1  \n",
       "\n",
       "[3 rows x 22 columns]"
      ]
     },
     "execution_count": 25,
     "metadata": {},
     "output_type": "execute_result"
    }
   ],
   "source": [
    "def count_cuisines(s):\n",
    "    if type(s)==float:\n",
    "        return 0\n",
    "    cuisines = s.split(\",\")\n",
    "    return len(cuisines)\n",
    "\n",
    "df_2[\"Cuisines_count\"] = df_2[\"Cuisines\"].apply(count_cuisines)\n",
    "df_2.head(3)"
   ]
  },
  {
   "cell_type": "code",
   "execution_count": 26,
   "metadata": {
    "scrolled": false
   },
   "outputs": [
    {
     "data": {
      "image/png": "[encoded data removed]",
      "text/plain": [
       "<Figure size 432x288 with 1 Axes>"
      ]
     },
     "metadata": {
      "needs_background": "light"
     },
     "output_type": "display_data"
    }
   ],
   "source": [
    "a1=df_2.groupby(\"Aggregate rating\")[\"Cuisines_count\"].mean().sort_index()\n",
    "plt.plot(a1.index,a1.values)\n",
    "plt.xlabel(\"Aggregate rating\",fontweight=\"bold\")\n",
    "plt.ylabel(\"Average Number of Cuisines\",fontweight=\"bold\")\n",
    "plt.title(\"Aggregate rating vs Average Number of Cuisines\",fontweight=\"bold\")\n",
    "plt.show()"
   ]
  },
  {
   "cell_type": "markdown",
   "metadata": {},
   "source": [
    "### From the graph we can see that more the cuisines more is the rating but for some restaurants this is not applied"
   ]
  },
  {
   "cell_type": "markdown",
   "metadata": {},
   "source": [
    "### Average Cost of Restaurant"
   ]
  },
  {
   "cell_type": "markdown",
   "metadata": {},
   "source": [
    "### Explaination and Answer:- We will now group the df_2 by Aggregate rating and find the mean of Average Cost for two and sort them according to index in ascending order. We will extract the rating from the index and the Average Cost for two from the values and plot a line graph between the rating and the votes."
   ]
  },
  {
   "cell_type": "code",
   "execution_count": 27,
   "metadata": {
    "scrolled": false
   },
   "outputs": [
    {
     "data": {
      "image/png": "[encoded data removed]",
      "text/plain": [
       "<Figure size 432x288 with 1 Axes>"
      ]
     },
     "metadata": {
      "needs_background": "light"
     },
     "output_type": "display_data"
    }
   ],
   "source": [
    "final_currency = df_2.groupby(\"Aggregate rating\")[\"Average Cost for two\"].mean().sort_index()\n",
    "rating = final_currency.index\n",
    "average_cost = final_currency.values\n",
    "plt.plot(rating,average_cost)\n",
    "plt.xlabel(\"Aggregate Rating\",fontweight=\"bold\")\n",
    "plt.ylabel(\"Average Cost of two\",fontweight=\"bold\")\n",
    "plt.title(\"Aggregate Rating vs Average Cost of two\",fontweight=\"bold\")\n",
    "plt.show()"
   ]
  },
  {
   "cell_type": "markdown",
   "metadata": {},
   "source": [
    "### Answer:- From the graph we can conclude that higher the average cost of restaurant higher is the rating but not applied to the 0 to 2 ratings."
   ]
  },
  {
   "cell_type": "markdown",
   "metadata": {},
   "source": [
    "### 4. Restaurant serving some specific cuisines."
   ]
  },
  {
   "cell_type": "markdown",
   "metadata": {},
   "source": [
    "### Explaination and Answer:- In this we will firstly extract the unique values of Rating text using value_counts and then whose rating text is Excellent and Very Good we will extract that cuisines and make a dictionary of these cuisines and their count. Then we will sort the dictionary in the reverse order on the basis of count and make the list of special cuisines. Then using specialcuisines function we will make a new column which stores the special cuisine of that restaurant. Then we will group the df_2 by Special_Cuisine and find the median of Aggregate rating and sort them according to values in descending order. We will extract the rating from the values and the cuisines from the index and plot a bar graph between the cuisines and the rating."
   ]
  },
  {
   "cell_type": "code",
   "execution_count": 28,
   "metadata": {
    "scrolled": false
   },
   "outputs": [
    {
     "name": "stdout",
     "output_type": "stream",
     "text": [
      "Average      3678\n",
      "Not rated    2139\n",
      "Good         1847\n",
      "Very Good     692\n",
      "Poor          180\n",
      "Excellent     116\n",
      "Name: Rating text, dtype: int64\n"
     ]
    }
   ],
   "source": [
    "print(df_2[\"Rating text\"].value_counts())"
   ]
  },
  {
   "cell_type": "code",
   "execution_count": 29,
   "metadata": {},
   "outputs": [
    {
     "name": "stdout",
     "output_type": "stream",
     "text": [
      "['North Indian' 'Continental' 'Italian' 'Chinese' 'Cafe' 'Fast Food'\n",
      " 'Asian' 'Desserts' 'Mughlai' 'American' 'European' 'Mexican' 'Bakery'\n",
      " 'Thai']\n"
     ]
    }
   ],
   "source": [
    "dict_cuisines = {}\n",
    "dict_rating = {}\n",
    "dict_count = {}\n",
    "array_of_rating_text = df_2[[\"Cuisines\",\"Aggregate rating\",\"Rating text\"]].values\n",
    "for row in range(len(array_of_rating_text)):\n",
    "    food = array_of_rating_text[row][0].strip().split(\",\")\n",
    "    for foo in food:\n",
    "        foo=foo.strip()\n",
    "    if array_of_rating_text[row][2]==\"Excellent\" or array_of_rating_text[row][2]==\"Very Good\":\n",
    "        for foo in food:\n",
    "            foo=foo.strip()\n",
    "            dict_cuisines[foo] = dict_cuisines.get(foo,0)+1\n",
    "special = np.array(sorted(dict_cuisines.items(),key=operator.itemgetter(1),reverse=True)[:14])\n",
    "special_cuisine = special[:,0]\n",
    "print(special_cuisine)"
   ]
  },
  {
   "cell_type": "code",
   "execution_count": 30,
   "metadata": {},
   "outputs": [
    {
     "data": {
      "text/html": [
       "<div>\n",
       "<style scoped>\n",
       "    .dataframe tbody tr th:only-of-type {\n",
       "        vertical-align: middle;\n",
       "    }\n",
       "\n",
       "    .dataframe tbody tr th {\n",
       "        vertical-align: top;\n",
       "    }\n",
       "\n",
       "    .dataframe thead th {\n",
       "        text-align: right;\n",
       "    }\n",
       "</style>\n",
       "<table border=\"1\" class=\"dataframe\">\n",
       "  <thead>\n",
       "    <tr style=\"text-align: right;\">\n",
       "      <th></th>\n",
       "      <th>Restaurant ID</th>\n",
       "      <th>Restaurant Name</th>\n",
       "      <th>Country Code</th>\n",
       "      <th>City</th>\n",
       "      <th>Address</th>\n",
       "      <th>Locality</th>\n",
       "      <th>Locality Verbose</th>\n",
       "      <th>Longitude</th>\n",
       "      <th>Latitude</th>\n",
       "      <th>Cuisines</th>\n",
       "      <th>...</th>\n",
       "      <th>Has Table booking</th>\n",
       "      <th>Has Online delivery</th>\n",
       "      <th>Is delivering now</th>\n",
       "      <th>Switch to order menu</th>\n",
       "      <th>Price range</th>\n",
       "      <th>Aggregate rating</th>\n",
       "      <th>Rating color</th>\n",
       "      <th>Rating text</th>\n",
       "      <th>Votes</th>\n",
       "      <th>Cuisines_count</th>\n",
       "    </tr>\n",
       "  </thead>\n",
       "  <tbody>\n",
       "    <tr>\n",
       "      <th>624</th>\n",
       "      <td>3400025</td>\n",
       "      <td>Jahanpanah</td>\n",
       "      <td>1</td>\n",
       "      <td>Agra</td>\n",
       "      <td>E 23, Shopping Arcade, Sadar Bazaar, Agra Cant...</td>\n",
       "      <td>Agra Cantt</td>\n",
       "      <td>Agra Cantt, Agra</td>\n",
       "      <td>78.011544</td>\n",
       "      <td>27.161661</td>\n",
       "      <td>North Indian, Mughlai</td>\n",
       "      <td>...</td>\n",
       "      <td>No</td>\n",
       "      <td>No</td>\n",
       "      <td>No</td>\n",
       "      <td>No</td>\n",
       "      <td>3</td>\n",
       "      <td>3.9</td>\n",
       "      <td>Yellow</td>\n",
       "      <td>Good</td>\n",
       "      <td>140</td>\n",
       "      <td>2</td>\n",
       "    </tr>\n",
       "  </tbody>\n",
       "</table>\n",
       "<p>1 rows × 22 columns</p>\n",
       "</div>"
      ],
      "text/plain": [
       "     Restaurant ID Restaurant Name  Country Code  City  \\\n",
       "624        3400025      Jahanpanah             1  Agra   \n",
       "\n",
       "                                               Address    Locality  \\\n",
       "624  E 23, Shopping Arcade, Sadar Bazaar, Agra Cant...  Agra Cantt   \n",
       "\n",
       "     Locality Verbose  Longitude   Latitude               Cuisines  ...  \\\n",
       "624  Agra Cantt, Agra  78.011544  27.161661  North Indian, Mughlai  ...   \n",
       "\n",
       "     Has Table booking Has Online delivery Is delivering now  \\\n",
       "624                 No                  No                No   \n",
       "\n",
       "    Switch to order menu Price range Aggregate rating  Rating color  \\\n",
       "624                   No           3              3.9        Yellow   \n",
       "\n",
       "     Rating text Votes Cuisines_count  \n",
       "624         Good   140              2  \n",
       "\n",
       "[1 rows x 22 columns]"
      ]
     },
     "execution_count": 30,
     "metadata": {},
     "output_type": "execute_result"
    }
   ],
   "source": [
    "df_2.head(1)"
   ]
  },
  {
   "cell_type": "code",
   "execution_count": 31,
   "metadata": {},
   "outputs": [
    {
     "data": {
      "image/png": "[encoded data removed]",
      "text/plain": [
       "<Figure size 432x288 with 1 Axes>"
      ]
     },
     "metadata": {
      "needs_background": "light"
     },
     "output_type": "display_data"
    }
   ],
   "source": [
    "def specialcuisines(s):\n",
    "    s = s.strip().split(\",\")\n",
    "    li=[]\n",
    "    for foo in s:\n",
    "        li.append(foo.strip())\n",
    "    for cuis in special_cuisine:\n",
    "        if cuis in li:\n",
    "            return cuis\n",
    "df_2[\"Special_Cuisine\"] = df_2[\"Cuisines\"].apply(specialcuisines)\n",
    "data_special_cuisines = df_2.groupby(\"Special_Cuisine\")[\"Aggregate rating\"].median().sort_values(ascending=False)\n",
    "cuisines = data_special_cuisines.index\n",
    "rating = data_special_cuisines.values\n",
    "plt.bar(cuisines,rating)\n",
    "plt.xlabel(\"Special Cuisines\",fontweight=\"bold\")\n",
    "plt.ylabel(\"Rating\",fontweight=\"bold\")\n",
    "plt.title(\"Special Cuisines vs Rating\",fontweight=\"bold\")\n",
    "plt.xticks(rotation=90)\n",
    "plt.ylim(ymax = 5, ymin = 0)\n",
    "plt.show()"
   ]
  },
  {
   "cell_type": "markdown",
   "metadata": {},
   "source": [
    "### Answer:- Restaurants serving some special cuisines like asian,continental,italian have more ratings than the other restaurants"
   ]
  },
  {
   "cell_type": "markdown",
   "metadata": {},
   "source": [
    "## 2. Find the weighted restaurant rating of each locality and find out the top 10 localities with more weighted restaurant rating?"
   ]
  },
  {
   "cell_type": "markdown",
   "metadata": {},
   "source": [
    "### 1. Weighted Restaurant Rating=Σ (number of votes * rating) / Σ (number of votes) ."
   ]
  },
  {
   "cell_type": "markdown",
   "metadata": {},
   "source": [
    "### Explaination and Answer:- In this we will make a new column of Weighted Restaurant Rating which will be number of votes * rating. Then we will group df_2 by Locality and find the sum of Weighted Restaurant Rating and store it in a1. After that we will group df_2 by locality and find the sum of Votes and store it in a2. Then we will divide a1 by a2 and sort them on the basis of values in descending order and extract the top 10 localities and then with the help of this data we will plot the bar graph of locality vs Weighted Restaurant Rating.\n",
    "The top 10 localities with more weighted restaurant rating are:-\n",
    "•\tAminabad \t\t\t\t\t4.9\n",
    "•\tHotel Clarks Amer, Malviya Nagar \t4.9\n",
    "•\tFriends Colony \t\t\t\t4.886916367367881\n",
    "•\tPowai \t\t\t\t\t\t4.841868613138686\n",
    "•\tKirlampudi Layout \t\t\t\t4.820161290322581\n",
    "•\tExpress Avenue Mall,  Royapettah \t4.8\n",
    "•\tDeccan Gymkhana \t\t\t\t4.8\n",
    "•\tBanjara Hills \t\t\t\t\t4.718761726078799\n",
    "•\tSector 5, Salt Lake \t\t\t\t4.707022552098202\n",
    "•\tRiverside Mall, Gomti Nagar \t\t4.7\n"
   ]
  },
  {
   "cell_type": "code",
   "execution_count": 32,
   "metadata": {
    "scrolled": false
   },
   "outputs": [
    {
     "name": "stdout",
     "output_type": "stream",
     "text": [
      "Aminabad 4.9\n",
      "Hotel Clarks Amer, Malviya Nagar 4.9\n",
      "Friends Colony 4.886916367367881\n",
      "Powai 4.841868613138686\n",
      "Kirlampudi Layout 4.820161290322581\n",
      "Express Avenue Mall,  Royapettah 4.8\n",
      "Deccan Gymkhana 4.8\n",
      "Banjara Hills 4.7187617260787995\n",
      "Sector 5, Salt Lake 4.707022552098202\n",
      "Riverside Mall, Gomti Nagar 4.7\n"
     ]
    },
    {
     "data": {
      "image/png": "[encoded data removed]",
      "text/plain": [
       "<Figure size 432x288 with 1 Axes>"
      ]
     },
     "metadata": {
      "needs_background": "light"
     },
     "output_type": "display_data"
    }
   ],
   "source": [
    "df_2[\"Weighted Restaurant Rating\"] = df_2[\"Votes\"]*df_2[\"Aggregate rating\"]\n",
    "a1=df_2.groupby(\"Locality\")[\"Weighted Restaurant Rating\"].sum()\n",
    "a2=df_2.groupby(\"Locality\")[\"Votes\"].sum()\n",
    "weighted_restaurant_rating = a1/a2\n",
    "final_ans = weighted_restaurant_rating.sort_values(ascending=False)[:10]\n",
    "for i in range(10):\n",
    "    print(final_ans.index[i],final_ans.values[i])\n",
    "plt.bar(final_ans.index,final_ans.values)\n",
    "plt.xlabel(\"Locality\",fontweight=\"bold\")\n",
    "plt.ylabel(\"Weighted Restaurant Rating\",fontweight=\"bold\")\n",
    "plt.title(\"Locality vs Weighted Restaurant Rating\",fontweight=\"bold\")\n",
    "plt.xticks(rotation=90)\n",
    "plt.show()"
   ]
  },
  {
   "cell_type": "markdown",
   "metadata": {},
   "source": [
    "# 3. Visualization"
   ]
  },
  {
   "cell_type": "markdown",
   "metadata": {},
   "source": [
    "## 1. Plot the bar graph top 15 restaurants have a maximum number of outlets."
   ]
  },
  {
   "cell_type": "markdown",
   "metadata": {},
   "source": [
    "### Explaination and Answer:-In this we will group df_3 by Restaurant Name and find the value_counts() and sort it according to descending order and extract top 15. We will extract the restaurants from the index and the count of outlets from the values. So with this data we will plot the bar graph of Restaurants vs Number of Outlets. Top 15 restaurants have a maximum number of outlets are:-\n",
    "•\tCafe Coffee Day \t\t83\n",
    "•\tDomino's Pizza \t\t79\n",
    "•\tSubway \t\t\t63\n",
    "•\tGreen Chick Chop\t51\n",
    "•\tMcDonald's \t\t48\n",
    "•\tKeventers \t\t\t34\n",
    "•\tPizza Hut \t\t\t29\n",
    "•\tGiani \t\t\t\t29\n",
    "•\tBaskin Robbins \t\t28\n",
    "•\tBarbeque Nation \t\t25\n",
    "•\tDunkin' Donuts \t\t22\n",
    "•\tGiani's \t\t\t22\n",
    "•\tBarista \t\t\t22\n",
    "•\tPind Balluchi \t\t20\n",
    "•\tCosta Coffee \t\t20\n"
   ]
  },
  {
   "cell_type": "code",
   "execution_count": 33,
   "metadata": {},
   "outputs": [
    {
     "data": {
      "text/html": [
       "<div>\n",
       "<style scoped>\n",
       "    .dataframe tbody tr th:only-of-type {\n",
       "        vertical-align: middle;\n",
       "    }\n",
       "\n",
       "    .dataframe tbody tr th {\n",
       "        vertical-align: top;\n",
       "    }\n",
       "\n",
       "    .dataframe thead th {\n",
       "        text-align: right;\n",
       "    }\n",
       "</style>\n",
       "<table border=\"1\" class=\"dataframe\">\n",
       "  <thead>\n",
       "    <tr style=\"text-align: right;\">\n",
       "      <th></th>\n",
       "      <th>Restaurant ID</th>\n",
       "      <th>Restaurant Name</th>\n",
       "      <th>Country Code</th>\n",
       "      <th>City</th>\n",
       "      <th>Address</th>\n",
       "      <th>Locality</th>\n",
       "      <th>Locality Verbose</th>\n",
       "      <th>Longitude</th>\n",
       "      <th>Latitude</th>\n",
       "      <th>Cuisines</th>\n",
       "      <th>...</th>\n",
       "      <th>Currency</th>\n",
       "      <th>Has Table booking</th>\n",
       "      <th>Has Online delivery</th>\n",
       "      <th>Is delivering now</th>\n",
       "      <th>Switch to order menu</th>\n",
       "      <th>Price range</th>\n",
       "      <th>Aggregate rating</th>\n",
       "      <th>Rating color</th>\n",
       "      <th>Rating text</th>\n",
       "      <th>Votes</th>\n",
       "    </tr>\n",
       "  </thead>\n",
       "  <tbody>\n",
       "    <tr>\n",
       "      <th>624</th>\n",
       "      <td>3400025</td>\n",
       "      <td>Jahanpanah</td>\n",
       "      <td>1</td>\n",
       "      <td>Agra</td>\n",
       "      <td>E 23, Shopping Arcade, Sadar Bazaar, Agra Cant...</td>\n",
       "      <td>Agra Cantt</td>\n",
       "      <td>Agra Cantt, Agra</td>\n",
       "      <td>78.011544</td>\n",
       "      <td>27.161661</td>\n",
       "      <td>North Indian, Mughlai</td>\n",
       "      <td>...</td>\n",
       "      <td>Indian Rupees(Rs.)</td>\n",
       "      <td>No</td>\n",
       "      <td>No</td>\n",
       "      <td>No</td>\n",
       "      <td>No</td>\n",
       "      <td>3</td>\n",
       "      <td>3.9</td>\n",
       "      <td>Yellow</td>\n",
       "      <td>Good</td>\n",
       "      <td>140</td>\n",
       "    </tr>\n",
       "    <tr>\n",
       "      <th>625</th>\n",
       "      <td>3400341</td>\n",
       "      <td>Rangrezz Restaurant</td>\n",
       "      <td>1</td>\n",
       "      <td>Agra</td>\n",
       "      <td>E-20, Shopping Arcade, Sadar Bazaar, Agra Cant...</td>\n",
       "      <td>Agra Cantt</td>\n",
       "      <td>Agra Cantt, Agra</td>\n",
       "      <td>0.000000</td>\n",
       "      <td>0.000000</td>\n",
       "      <td>North Indian, Mughlai</td>\n",
       "      <td>...</td>\n",
       "      <td>Indian Rupees(Rs.)</td>\n",
       "      <td>No</td>\n",
       "      <td>No</td>\n",
       "      <td>No</td>\n",
       "      <td>No</td>\n",
       "      <td>2</td>\n",
       "      <td>3.5</td>\n",
       "      <td>Yellow</td>\n",
       "      <td>Good</td>\n",
       "      <td>71</td>\n",
       "    </tr>\n",
       "  </tbody>\n",
       "</table>\n",
       "<p>2 rows × 21 columns</p>\n",
       "</div>"
      ],
      "text/plain": [
       "     Restaurant ID      Restaurant Name  Country Code  City  \\\n",
       "624        3400025           Jahanpanah             1  Agra   \n",
       "625        3400341  Rangrezz Restaurant             1  Agra   \n",
       "\n",
       "                                               Address    Locality  \\\n",
       "624  E 23, Shopping Arcade, Sadar Bazaar, Agra Cant...  Agra Cantt   \n",
       "625  E-20, Shopping Arcade, Sadar Bazaar, Agra Cant...  Agra Cantt   \n",
       "\n",
       "     Locality Verbose  Longitude   Latitude               Cuisines  ...  \\\n",
       "624  Agra Cantt, Agra  78.011544  27.161661  North Indian, Mughlai  ...   \n",
       "625  Agra Cantt, Agra   0.000000   0.000000  North Indian, Mughlai  ...   \n",
       "\n",
       "               Currency Has Table booking Has Online delivery  \\\n",
       "624  Indian Rupees(Rs.)                No                  No   \n",
       "625  Indian Rupees(Rs.)                No                  No   \n",
       "\n",
       "    Is delivering now Switch to order menu Price range  Aggregate rating  \\\n",
       "624                No                   No           3               3.9   \n",
       "625                No                   No           2               3.5   \n",
       "\n",
       "     Rating color Rating text Votes  \n",
       "624        Yellow        Good   140  \n",
       "625        Yellow        Good    71  \n",
       "\n",
       "[2 rows x 21 columns]"
      ]
     },
     "execution_count": 33,
     "metadata": {},
     "output_type": "execute_result"
    }
   ],
   "source": [
    "df_3 = df_India.copy()\n",
    "df_3.head(2)"
   ]
  },
  {
   "cell_type": "code",
   "execution_count": 34,
   "metadata": {},
   "outputs": [
    {
     "name": "stdout",
     "output_type": "stream",
     "text": [
      "Cafe Coffee Day 83\n",
      "Domino's Pizza 79\n",
      "Subway 63\n",
      "Green Chick Chop 51\n",
      "McDonald's 48\n",
      "Keventers 34\n",
      "Giani 29\n",
      "Pizza Hut 29\n",
      "Baskin Robbins 28\n",
      "Barbeque Nation 25\n",
      "Barista 22\n",
      "Giani's 22\n",
      "Dunkin' Donuts 22\n",
      "Costa Coffee 20\n",
      "Pind Balluchi 20\n"
     ]
    },
    {
     "data": {
      "image/png": "[encoded data removed]",
      "text/plain": [
       "<Figure size 432x288 with 1 Axes>"
      ]
     },
     "metadata": {
      "needs_background": "light"
     },
     "output_type": "display_data"
    }
   ],
   "source": [
    "restaurant_with_max_outlets = df_3[\"Restaurant Name\"].value_counts().sort_values(ascending=False)[:15]\n",
    "restaurants = restaurant_with_max_outlets.index\n",
    "count_of_outlets = restaurant_with_max_outlets.values\n",
    "for i in range(15):\n",
    "    print(restaurants[i],count_of_outlets[i])\n",
    "plt.bar(restaurants,count_of_outlets)\n",
    "plt.xlabel(\"Restaurants\",fontweight=\"bold\")\n",
    "plt.ylabel(\"Number of Outlets\",fontweight=\"bold\")\n",
    "plt.title(\"Restaurants vs Number of Outlets\",fontweight=\"bold\")\n",
    "plt.xticks(rotation=90)\n",
    "plt.show()"
   ]
  },
  {
   "cell_type": "markdown",
   "metadata": {},
   "source": [
    "## 2. Plot the histogram of aggregate rating of restaurant( drop the unrated restaurant)."
   ]
  },
  {
   "cell_type": "markdown",
   "metadata": {},
   "source": [
    "### Explaination and Answer:- In this we will make a df_hist in which Rating text is not equal to Not rated. After that we will store the values of Aggregate rating in the data and make the historgram with this data keeping the bins as auto"
   ]
  },
  {
   "cell_type": "code",
   "execution_count": 35,
   "metadata": {
    "scrolled": true
   },
   "outputs": [
    {
     "data": {
      "text/plain": [
       "Average      3678\n",
       "Not rated    2139\n",
       "Good         1847\n",
       "Very Good     692\n",
       "Poor          180\n",
       "Excellent     116\n",
       "Name: Rating text, dtype: int64"
      ]
     },
     "execution_count": 35,
     "metadata": {},
     "output_type": "execute_result"
    }
   ],
   "source": [
    "df_3[\"Rating text\"].value_counts()"
   ]
  },
  {
   "cell_type": "code",
   "execution_count": 36,
   "metadata": {},
   "outputs": [
    {
     "data": {
      "image/png": "[encoded data removed]",
      "text/plain": [
       "<Figure size 432x288 with 1 Axes>"
      ]
     },
     "metadata": {
      "needs_background": "light"
     },
     "output_type": "display_data"
    }
   ],
   "source": [
    "df_hist = df_3[df_3[\"Rating text\"]!=\"Not rated\"]\n",
    "data = df_hist[\"Aggregate rating\"]\n",
    "plt.hist(data,bins=\"auto\",edgecolor=\"black\")\n",
    "plt.xlabel(\"Aggregate Rating\",fontweight=\"bold\")\n",
    "plt.ylabel(\"Number of Restaurants\",fontweight=\"bold\")\n",
    "plt.title(\"Aggregate Rating vs Number of Restaurants\",fontweight=\"bold\")\n",
    "plt.xticks([0,1,2,3,4,5])\n",
    "plt.show()"
   ]
  },
  {
   "cell_type": "markdown",
   "metadata": {},
   "source": [
    "## 3. Plot the bar graph top 10 restaurants in the data with the highest number of votes."
   ]
  },
  {
   "cell_type": "markdown",
   "metadata": {},
   "source": [
    "### Explaination and Answer:- In this we will group df_3 by Restaurant Name and find the sum of the votes and sort by the values in descending order and extract the top 10 restaurants. We will extract the restaurants by the index and the votes by the values. Now we will Make a bar graph with the help of this data. Top 10 restaurants in the data with the highest number of votes are :-\n",
    "•\tBarbeque Nation \t\t\t27835\n",
    "•\tAB's - Absolute Barbecues \t13400\n",
    "•\tToit \t\t\t\t\t10934\n",
    "•\tBig Chill \t\t\t\t\t10853\n",
    "•\tTruffles \t\t\t\t\t9682\n",
    "•\tFarzi Cafe \t\t\t\t9189\n",
    "•\tChili's \t\t\t\t\t8156\n",
    "•\tHauz Khas Social \t\t\t7931\n",
    "•\tJoey's Pizza \t\t\t\t7807\n",
    "•\tPeter Cat \t\t\t\t7574\n"
   ]
  },
  {
   "cell_type": "code",
   "execution_count": 37,
   "metadata": {},
   "outputs": [
    {
     "name": "stdout",
     "output_type": "stream",
     "text": [
      "Barbeque Nation 27835\n",
      "AB's - Absolute Barbecues 13400\n",
      "Toit 10934\n",
      "Big Chill 10853\n",
      "Truffles 9682\n",
      "Farzi Cafe 9189\n",
      "Chili's 8156\n",
      "Hauz Khas Social 7931\n",
      "Joey's Pizza 7807\n",
      "Peter Cat 7574\n"
     ]
    },
    {
     "data": {
      "image/png": "[encoded data removed]",
      "text/plain": [
       "<Figure size 432x288 with 1 Axes>"
      ]
     },
     "metadata": {
      "needs_background": "light"
     },
     "output_type": "display_data"
    }
   ],
   "source": [
    "data_restaurants = df_3.groupby(\"Restaurant Name\")[\"Votes\"].sum().sort_values(ascending=False)[:10]\n",
    "restaurants = data_restaurants.index\n",
    "votes = data_restaurants.values\n",
    "for i in range(10):\n",
    "    print(restaurants[i],votes[i])\n",
    "plt.bar(restaurants,votes)\n",
    "plt.xlabel(\"Restaurants\",fontweight=\"bold\")\n",
    "plt.ylabel(\"Votes\",fontweight=\"bold\")\n",
    "plt.title(\"Restaurants VS Votes\",fontweight=\"bold\")\n",
    "plt.xticks(rotation=90)\n",
    "plt.show()"
   ]
  },
  {
   "cell_type": "markdown",
   "metadata": {},
   "source": [
    "## 4.Plot the pie graph of top 10 cuisines present in restaurants in the USA."
   ]
  },
  {
   "cell_type": "markdown",
   "metadata": {},
   "source": [
    "### Explaination and Answer:- In this firstly we will extract the data of USA from the df by using Country Code as 216 and store it in df_USA and we will drop the na values from that. Now we will extract the cuisines values from the df_USA and with the help of cuisines function we will make a dictionary which stores the cuisines and its count. Now we will sort the dictionary on the basis of count and convert it into list and get the top 10 cuisines. Now with the help of this data we will plot a pie chart. The top 10 cuisines present in restaurants in the USA are:-\n",
    "•\tAmerican \t112\n",
    "•\tSeafood \t59\n",
    "•\tBurger \t\t49\n",
    "•\tSandwich \t49\n",
    "•\tPizza \t\t49\n",
    "•\tSteak \t\t42\n",
    "•\tItalian \t\t38\n",
    "•\tBreakfast \t37\n",
    "•\tMexican \t36\n",
    "•\tSushi \t\t34\n"
   ]
  },
  {
   "cell_type": "code",
   "execution_count": 38,
   "metadata": {
    "scrolled": true
   },
   "outputs": [
    {
     "name": "stderr",
     "output_type": "stream",
     "text": [
      "C:\\Users\\aarya\\Anaconda3\\lib\\site-packages\\ipykernel_launcher.py:3: SettingWithCopyWarning: \n",
      "A value is trying to be set on a copy of a slice from a DataFrame\n",
      "\n",
      "See the caveats in the documentation: https://pandas.pydata.org/pandas-docs/stable/user_guide/indexing.html#returning-a-view-versus-a-copy\n",
      "  This is separate from the ipykernel package so we can avoid doing imports until\n"
     ]
    }
   ],
   "source": [
    "df_USA = df[df[\"Country Code\"]==216]\n",
    "df_USA.head(3)\n",
    "df_USA.dropna(inplace=True)"
   ]
  },
  {
   "cell_type": "code",
   "execution_count": 39,
   "metadata": {},
   "outputs": [
    {
     "name": "stdout",
     "output_type": "stream",
     "text": [
      "American 112\n",
      "Seafood 59\n",
      "Burger 49\n",
      "Sandwich 49\n",
      "Pizza 49\n",
      "Steak 42\n",
      "Italian 38\n",
      "Breakfast 37\n",
      "Mexican 36\n",
      "Sushi 34\n"
     ]
    },
    {
     "data": {
      "image/png": "[encoded data removed]",
      "text/plain": [
       "<Figure size 432x288 with 1 Axes>"
      ]
     },
     "metadata": {},
     "output_type": "display_data"
    }
   ],
   "source": [
    "def cuisines(li):\n",
    "    d={}\n",
    "    for row in li:\n",
    "        cuisines = row.strip().split(\",\")\n",
    "        for cuisine in cuisines:\n",
    "            cuisine = cuisine.strip()\n",
    "            d[cuisine] = d.get(cuisine,0) + 1\n",
    "    return d\n",
    "usa_cuisines = df_USA[\"Cuisines\"].values\n",
    "top_cuisines = cuisines(usa_cuisines)\n",
    "usa_top_10_cuisines = np.array(sorted(top_cuisines.items(),key=operator.itemgetter(1),reverse=True)[:10])\n",
    "for i in range(10):\n",
    "    print(usa_top_10_cuisines[i][0],usa_top_10_cuisines[i][1])\n",
    "plt.pie(usa_top_10_cuisines[:,1],labels=usa_top_10_cuisines[:,0],autopct=\"%.2f%%\")\n",
    "plt.title(\"Top 10 cuisines present in restaurants in the USA\",fontweight=\"bold\")\n",
    "plt.axis(\"equal\")\n",
    "plt.show()"
   ]
  },
  {
   "cell_type": "markdown",
   "metadata": {},
   "source": [
    "## 5. Plot the bubble graph of a number of Restaurants present in the city of India and keeping the weighted restaurant rating of the city in a bubble."
   ]
  },
  {
   "cell_type": "markdown",
   "metadata": {},
   "source": [
    "### Explaination and Answer:- In this we will do exact thing which we have done in 2.2.1 but the only difference is that we will group the data by cities. Now we get the weighted_restaurant_rating. Now we will extract the rating by values and cities by index. Then we will find the number of restaurants in the city with the help of value_counts() and sort on the index in the ascending order and store it’s values in number_of_restaurants_in_city. Now we will plot a bubble graph of the cities and number_of_restaurants_in_city using s as weighted_rating*9."
   ]
  },
  {
   "cell_type": "code",
   "execution_count": 40,
   "metadata": {},
   "outputs": [
    {
     "data": {
      "image/png": "[encoded data removed]",
      "text/plain": [
       "<Figure size 432x288 with 1 Axes>"
      ]
     },
     "metadata": {
      "needs_background": "light"
     },
     "output_type": "display_data"
    }
   ],
   "source": [
    "df_3[\"Weighted Restaurant Rating\"] = df_3[\"Votes\"]*df_3[\"Aggregate rating\"]\n",
    "a1=df_3.groupby(\"City\")[\"Weighted Restaurant Rating\"].sum()\n",
    "a2=df_3.groupby(\"City\")[\"Votes\"].sum()\n",
    "weighted_restaurant_rating = a1/a2\n",
    "final_ans = weighted_restaurant_rating.sort_index()\n",
    "cities = final_ans.index\n",
    "weighted_rating =final_ans.values\n",
    "number_of_restaurants_in_city=df_3[\"City\"].value_counts().sort_index().values\n",
    "plt.scatter(cities,number_of_restaurants_in_city,s=weighted_rating*9)\n",
    "plt.xticks(rotation=90)\n",
    "plt.xlabel(\"Cities\",fontweight=\"bold\")\n",
    "plt.ylabel(\"Number of Restaurants\",fontweight=\"bold\")\n",
    "plt.title(\"City VS Number of Restaurants\",fontweight=\"bold\")\n",
    "plt.tick_params(axis='x', which='major', labelsize=7)\n",
    "plt.show()"
   ]
  }
 ],
 "metadata": {
  "kernelspec": {
   "display_name": "Python 3",
   "language": "python",
   "name": "python3"
  },
  "language_info": {
   "codemirror_mode": {
    "name": "ipython",
    "version": 3
   },
   "file_extension": ".py",
   "mimetype": "text/x-python",
   "name": "python",
   "nbconvert_exporter": "python",
   "pygments_lexer": "ipython3",
   "version": "3.7.7"
  }
 },
 "nbformat": 4,
 "nbformat_minor": 4
}
