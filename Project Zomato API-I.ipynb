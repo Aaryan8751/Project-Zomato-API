{
 "cells": [
  {
   "cell_type": "markdown",
   "metadata": {},
   "source": [
    "# Zomato"
   ]
  },
  {
   "cell_type": "markdown",
   "metadata": {},
   "source": [
    "## Key= 33f63ed15365921c3c1b6f01ed0fd123"
   ]
  },
  {
   "cell_type": "markdown",
   "metadata": {},
   "source": [
    "# Zomato cuisine problem "
   ]
  },
  {
   "cell_type": "markdown",
   "metadata": {},
   "source": [
    "### Mexican cuisine began about 9,000 years ago, when agricultural communities such as the Maya formed, domesticating maize, creating the standard process of corn nixtamalization, and establishing their foodways.You are a huge fan of ‘Mexican’ cuisine. Now using the Zomato API you want to analyse the best restaurant serving the Mexican Cuisine, their locations, and cost for two, etc.There is a list of questions related to Mexican cuisines given in the next section."
   ]
  },
  {
   "cell_type": "markdown",
   "metadata": {},
   "source": [
    "### Zomato Cuisine 1.1"
   ]
  },
  {
   "cell_type": "markdown",
   "metadata": {},
   "source": [
    "### Fetch the cuisine_id of ‘Mexican’ cuisine using Zomato API. Print the cuisine_id."
   ]
  },
  {
   "cell_type": "code",
   "execution_count": 72,
   "metadata": {
    "scrolled": true
   },
   "outputs": [
    {
     "name": "stdout",
     "output_type": "stream",
     "text": [
      "73\n"
     ]
    }
   ],
   "source": [
    "## Open and read data file as specified in the question\n",
    "## Print the required output in given format\n",
    "import requests\n",
    "h={'user-key':'33f63ed15365921c3c1b6f01ed0fd123'}\n",
    "p={'q':'chandigarh'}\n",
    "r=requests.get('https://developers.zomato.com/api/v2.1/cities',headers=h,params=p)\n",
    "data=r.json()\n",
    "x=data['location_suggestions']\n",
    "y=x[0]['id']\n",
    "rr=requests.get('https://developers.zomato.com/api/v2.1/cuisines',headers=h,params={'city_id':y})\n",
    "p1=rr.json()\n",
    "for i in p1['cuisines']:\n",
    "    if i['cuisine']['cuisine_name']=='Mexican':\n",
    "        print(i['cuisine']['cuisine_id'])"
   ]
  },
  {
   "cell_type": "markdown",
   "metadata": {},
   "source": [
    "### Zomato Cuisine 1.3"
   ]
  },
  {
   "cell_type": "markdown",
   "metadata": {},
   "source": [
    "### Fetch the entityid and entitytype of place Connaught Place. Print the entityid and entitytype,"
   ]
  },
  {
   "cell_type": "code",
   "execution_count": 73,
   "metadata": {},
   "outputs": [
    {
     "name": "stdout",
     "output_type": "stream",
     "text": [
      "subzone 104\n"
     ]
    }
   ],
   "source": [
    "import requests\n",
    "h={'user-key':'33f63ed15365921c3c1b6f01ed0fd123'}\n",
    "p={'query':'Connaught Place'}\n",
    "r=requests.get('https://developers.zomato.com/api/v2.1/locations',headers=h,params=p)\n",
    "data=r.json()\n",
    "for i in data['location_suggestions']:\n",
    "    print(i['entity_type'],i['entity_id'])"
   ]
  },
  {
   "cell_type": "markdown",
   "metadata": {},
   "source": [
    "### Zomato Cuisine 1.4"
   ]
  },
  {
   "cell_type": "markdown",
   "metadata": {},
   "source": [
    "### Fetch the top 10 best-rated restaurant serving ‘Mexican’ cuisine present in Connaught Place. Print the restaurant name, user rating and restaurant id."
   ]
  },
  {
   "cell_type": "code",
   "execution_count": 83,
   "metadata": {},
   "outputs": [
    {
     "name": "stdout",
     "output_type": "stream",
     "text": [
      "Chili's Grill & Bar 4.6 18537536\n",
      "38 Barracks 4.6 18241537\n",
      "Ministry Of Beer 4.5 18418277\n",
      "Xero Degrees 4.4 18729557\n",
      "Farzi Cafe 4.3 18233593\n",
      "Bunta Bar Live 4.3 18623406\n",
      "Excuse Me Boss 4.2 307036\n",
      "Punjabi By Nature 4.2 306497\n",
      "The Art House Bar n Cafe 4.2 18863766\n",
      "Firangi Bake 4.2 18534147\n"
     ]
    }
   ],
   "source": [
    "## Open and read data file as specified in the question\n",
    "## Print the required output in given format\n",
    "import requests\n",
    "h={'user-key':'33f63ed15365921c3c1b6f01ed0fd123'}\n",
    "p={'q':'chandigarh'}\n",
    "r=requests.get('https://developers.zomato.com/api/v2.1/cities',headers=h,params=p)\n",
    "data=r.json()\n",
    "x=data['location_suggestions']\n",
    "y=x[0]['id']\n",
    "rr=requests.get('https://developers.zomato.com/api/v2.1/cuisines',headers=h,params={'city_id':y})\n",
    "p1=rr.json()\n",
    "cusine=1\n",
    "for i in p1['cuisines']:\n",
    "    if i['cuisine']['cuisine_name']=='Mexican':\n",
    "        cusine=(i['cuisine']['cuisine_id'])\n",
    "\n",
    "h={'user-key':'33f63ed15365921c3c1b6f01ed0fd123'}\n",
    "p={'query':'Connaught Place'}\n",
    "r=requests.get('https://developers.zomato.com/api/v2.1/locations',headers=h,params=p)\n",
    "data=r.json()\n",
    "etype=1\n",
    "eid=1\n",
    "for i in data['location_suggestions']:\n",
    "    etype,eid=i['entity_type'],i['entity_id']\n",
    "\n",
    "p1={'entity_id':eid,'entity_type':etype,\"count\":10,\"cuisines\":cusine,'sort':'rating','order':'desc'}\n",
    "r1=requests.get('https://developers.zomato.com/api/v2.1/search',headers=h,params=p1)\n",
    "data=r1.json()\n",
    "for i in data['restaurants']:\n",
    "    x=i['restaurant']['user_rating']\n",
    "    print(i['restaurant']['name'],x['aggregate_rating'],i['restaurant']['id'])"
   ]
  },
  {
   "cell_type": "markdown",
   "metadata": {},
   "source": [
    "### Zomato Cuisine 1.5"
   ]
  },
  {
   "cell_type": "markdown",
   "metadata": {},
   "source": [
    "### Fetch the category id of category type ‘Cafes’ using Zomato API. Print the category_id."
   ]
  },
  {
   "cell_type": "code",
   "execution_count": 85,
   "metadata": {},
   "outputs": [
    {
     "name": "stdout",
     "output_type": "stream",
     "text": [
      "6\n"
     ]
    }
   ],
   "source": [
    "import requests\n",
    "h={'user-key':'33f63ed15365921c3c1b6f01ed0fd123'}\n",
    "r=requests.get('https://developers.zomato.com/api/v2.1/categories',headers=h)\n",
    "data=r.json()\n",
    "for i in data['categories']:\n",
    "    if i['categories']['name']==\"Cafes\":\n",
    "        print(i['categories']['id'])"
   ]
  },
  {
   "cell_type": "markdown",
   "metadata": {},
   "source": [
    "### Zomato Cuisine 1.6"
   ]
  },
  {
   "cell_type": "markdown",
   "metadata": {},
   "source": [
    "### Fetch the best-rated restaurant for ‘Mexican’ cuisine with category type ‘ Cafes’ present in Connaught Place using Zomato API. Print the restaurant name, user rating and restaurant id."
   ]
  },
  {
   "cell_type": "code",
   "execution_count": 95,
   "metadata": {},
   "outputs": [
    {
     "name": "stdout",
     "output_type": "stream",
     "text": [
      "Xero Degrees 4.4 18729557\n",
      "The Art House Bar n Cafe 4.2 18863766\n",
      "Chaayos - Meri Wali Chai 4.1 18237315\n",
      "Cafe Delhi Heights 4.0 18579363\n",
      "Cafe Coffee Day - The Square 3.8 303034\n"
     ]
    }
   ],
   "source": [
    "## Open and read data file as specified in the question\n",
    "## Print the required output in given format\n",
    "## Open and read data file as specified in the question\n",
    "## Print the required output in given format\n",
    "import requests\n",
    "h={'user-key':'33f63ed15365921c3c1b6f01ed0fd123'}\n",
    "p={'q':'chandigarh'}\n",
    "r=requests.get('https://developers.zomato.com/api/v2.1/cities',headers=h,params=p)\n",
    "data=r.json()\n",
    "x=data['location_suggestions']\n",
    "y=x[0]['id']\n",
    "rr=requests.get('https://developers.zomato.com/api/v2.1/cuisines',headers=h,params={'city_id':y})\n",
    "p1=rr.json()\n",
    "cusine=1\n",
    "for i in p1['cuisines']:\n",
    "    if i['cuisine']['cuisine_name']=='Mexican':\n",
    "        cusine=(i['cuisine']['cuisine_id'])\n",
    "\n",
    "h={'user-key':'33f63ed15365921c3c1b6f01ed0fd123'}\n",
    "p={'query':'Connaught Place'}\n",
    "r=requests.get('https://developers.zomato.com/api/v2.1/locations',headers=h,params=p)\n",
    "data=r.json()\n",
    "etype=1\n",
    "eid=1\n",
    "for i in data['location_suggestions']:\n",
    "    etype,eid=i['entity_type'],i['entity_id']\n",
    "\n",
    "h={'user-key':'33f63ed15365921c3c1b6f01ed0fd123'}\n",
    "r=requests.get('https://developers.zomato.com/api/v2.1/categories',headers=h)\n",
    "data=r.json()\n",
    "a1=1\n",
    "for i in data['categories']:\n",
    "    if i['categories']['name']==\"Cafes\":\n",
    "        a1=(i['categories']['id'])\n",
    "\n",
    "p1={'entity_id':eid,'entity_type':etype,\"cuisines\":cusine,'sort':'rating','order':'desc',\"category\":a1}\n",
    "r1=requests.get('https://developers.zomato.com/api/v2.1/search',headers=h,params=p1)\n",
    "data=r1.json()\n",
    "for i in data['restaurants']:\n",
    "    x=i['restaurant']['user_rating']\n",
    "    print(i['restaurant']['name'],x['aggregate_rating'],i['restaurant']['id'])"
   ]
  },
  {
   "cell_type": "markdown",
   "metadata": {},
   "source": [
    "# Zomato Cuisine 1.7"
   ]
  },
  {
   "cell_type": "markdown",
   "metadata": {},
   "source": [
    "### Fetch the latest review of the best-rated restaurant for ‘Mexican’ cuisine with Category type ‘Cafes’ present in Connaught Place using Zomato API. Print the name of user ,user rating and review text.Note : Due to limitation of basic API plan it, can only fetch 5 latest review"
   ]
  },
  {
   "cell_type": "code",
   "execution_count": 1,
   "metadata": {},
   "outputs": [
    {
     "name": "stdout",
     "output_type": "stream",
     "text": [
      "Ayush Bhagat 5 \n",
      "Hina Vohra 4 \n",
      "Shivansh 4 \n",
      "Temptingtastebuds__ 5 This outlet of xero degrees in connaught place, One of my most recommended place . Pocket friendly,comfortable seating area and polite staff. They serve food on time. Totally clean and hygienic place. I ordered here jar pizza and it is filled with cheese and I just loved it. Must hit this place with your friends.\n",
      "Saurabh Banderwal 5 10 months ago  Hidden gem in Connaught place... pocket friendly....good food n mocktails....\n"
     ]
    }
   ],
   "source": [
    "## Open and read data file as specified in the question\n",
    "## Print the required output in given format\n",
    "## Open and read data file as specified in the question\n",
    "## Print the required output in given format\n",
    "import requests\n",
    "h={'user-key':'33f63ed15365921c3c1b6f01ed0fd123'}\n",
    "p={'q':'chandigarh'}\n",
    "r=requests.get('https://developers.zomato.com/api/v2.1/cities',headers=h,params=p)\n",
    "data=r.json()\n",
    "x=data['location_suggestions']\n",
    "y=x[0]['id']\n",
    "rr=requests.get('https://developers.zomato.com/api/v2.1/cuisines',headers=h,params={'city_id':y})\n",
    "p1=rr.json()\n",
    "cusine=1\n",
    "for i in p1['cuisines']:\n",
    "    if i['cuisine']['cuisine_name']=='Mexican':\n",
    "        cusine=(i['cuisine']['cuisine_id'])\n",
    "\n",
    "h={'user-key':'33f63ed15365921c3c1b6f01ed0fd123'}\n",
    "p={'query':'Connaught Place'}\n",
    "r=requests.get('https://developers.zomato.com/api/v2.1/locations',headers=h,params=p)\n",
    "data=r.json()\n",
    "etype=1\n",
    "eid=1\n",
    "for i in data['location_suggestions']:\n",
    "    etype,eid=i['entity_type'],i['entity_id']\n",
    "\n",
    "h={'user-key':'33f63ed15365921c3c1b6f01ed0fd123'}\n",
    "r=requests.get('https://developers.zomato.com/api/v2.1/categories',headers=h)\n",
    "data=r.json()\n",
    "a1=1\n",
    "for i in data['categories']:\n",
    "    if i['categories']['name']==\"Cafes\":\n",
    "        a1=(i['categories']['id'])\n",
    "\n",
    "p1={'entity_id':eid,'entity_type':etype,\"cuisines\":cusine,'sort':'rating','order':'desc',\"category\":a1}\n",
    "r1=requests.get('https://developers.zomato.com/api/v2.1/search',headers=h,params=p1)\n",
    "data=r1.json()\n",
    "ids=1\n",
    "for i in data['restaurants']:\n",
    "    ids=i['restaurant']['id']\n",
    "    break\n",
    "    \n",
    "    \n",
    "p2={'res_id':ids}\n",
    "r2=requests.get('https://developers.zomato.com/api/v2.1/reviews',headers=h,params=p2)\n",
    "data=r2.json()\n",
    "for i in data['user_reviews']:\n",
    "    z=i['review']['user']\n",
    "    print(z['name'],i['review']['rating'],i['review']['review_text'])\n",
    "    "
   ]
  },
  {
   "cell_type": "markdown",
   "metadata": {},
   "source": [
    "## Zomato restaurant Problem"
   ]
  },
  {
   "cell_type": "markdown",
   "metadata": {},
   "source": [
    "### \"Pa Pa Ya\" is a modern Asian bistro & tapas bar from the House of Massive Restaurants and best described as a chic, modern and radical reinterpretation of Asian cuisine. You have heard from your friends that restaurant \"Pa Pa Ya\" in Delhi is quite good. So now you want to extract the information related to \"Pa Pa Ya\" using Zomato API. There is a list of questions related to the restaurant given in the next section."
   ]
  },
  {
   "cell_type": "markdown",
   "metadata": {},
   "source": [
    "### Zomato Restaurant 2.2"
   ]
  },
  {
   "cell_type": "markdown",
   "metadata": {},
   "source": [
    "### Fetch the details of \"Pa Pa Ya\" restaurant using Zomato API. Print the user rating, the average cost for two, cuisines and address of \"Pa Pa Ya\" restaurant."
   ]
  },
  {
   "cell_type": "code",
   "execution_count": 3,
   "metadata": {},
   "outputs": [
    {
     "name": "stdout",
     "output_type": "stream",
     "text": [
      "4.2\n",
      "1400\n",
      "North Indian, Continental, Italian, Chinese\n",
      "G-15/B, Vijay Nagar, New Delhi\n"
     ]
    }
   ],
   "source": [
    "# res_id= 18241524\n",
    "import requests\n",
    "h={'user-key':'33f63ed15365921c3c1b6f01ed0fd123'}\n",
    "p={'res_id':18241524}\n",
    "r=requests.get('https://developers.zomato.com/api/v2.1/restaurant',headers=h,params=p)\n",
    "data=r.json()\n",
    "print(data['user_rating']['aggregate_rating'])\n",
    "print(data['average_cost_for_two'])\n",
    "print(data['cuisines'])\n",
    "print(data['location']['address'])"
   ]
  },
  {
   "cell_type": "markdown",
   "metadata": {},
   "source": [
    "### Zomato Restaurant 2.3"
   ]
  },
  {
   "cell_type": "markdown",
   "metadata": {},
   "source": [
    "### Find out whether online table reservation is supported in \"Pa Pa Ya\" restaurant or not using Zomato API. Print 'yes' if online table reservation is supported else 'no' Note : In Zomato response JSON. 1=Yes and 0 = No"
   ]
  },
  {
   "cell_type": "code",
   "execution_count": 5,
   "metadata": {},
   "outputs": [
    {
     "name": "stdout",
     "output_type": "stream",
     "text": [
      "0\n"
     ]
    }
   ],
   "source": [
    "# res_id= 18241524\n",
    "import requests\n",
    "h={'user-key':'33f63ed15365921c3c1b6f01ed0fd123'}\n",
    "p={'res_id':18241524}\n",
    "r=requests.get('https://developers.zomato.com/api/v2.1/restaurant',headers=h,params=p)\n",
    "data=r.json()\n",
    "z=data['has_table_booking']\n",
    "if z==0:\n",
    "    print('no')\n",
    "else:\n",
    "    print('yes')"
   ]
  },
  {
   "cell_type": "markdown",
   "metadata": {},
   "source": [
    "### Zomato Restaurant 2.4"
   ]
  },
  {
   "cell_type": "markdown",
   "metadata": {},
   "source": [
    "### Fetch the latest review of \"Pa Pa Ya\" restaurant using Zomato API. Print the name of the user, user rating and review text. Note :Due to the limitation of the basic API plan, it can only fetch 5 latest review"
   ]
  },
  {
   "cell_type": "code",
   "execution_count": 7,
   "metadata": {},
   "outputs": [
    {
     "name": "stdout",
     "output_type": "stream",
     "text": [
      "Lavanya Kv 4 \n",
      "Foodieszonee 4 It’s a very nice place to hangout and has a very nice ambience, great dj and the food was very good must try white sauce pasta.  Good and fast service also reasonable price.\n",
      "Prerana Verma 5 \n",
      "Namankhosla23 4 The food here was very good. They had a good variety. Ambiance was very cosy and perfect for a date. Must try place for good and shakes.   Food 4/5 Staff 3/5\n",
      "Sonali Garg 5 Last week my exams got over and we all friends decided to visit here. As 736 AD is a very good restaurant so we visited here. The menu consists of many varieties of dishes and we selected some common dishes like: 1. Veg platter 2. Veg manchurian  3. Tandoori momos  4. Cheese nachos 5. Salt and pepper 6. Mocktails and shakes  The food here was so delicious and wonderful. Ambiance was beautiful and service was at its best. I really enjoyed there and I highly recommend this restaurant to visit once.\n"
     ]
    }
   ],
   "source": [
    "# res_id= 18241524\n",
    "import requests\n",
    "h={'user-key':'33f63ed15365921c3c1b6f01ed0fd123'}\n",
    "p2={'res_id':18241524}\n",
    "r2=requests.get('https://developers.zomato.com/api/v2.1/reviews',headers=h,params=p2)\n",
    "data=r2.json()\n",
    "for i in data['user_reviews']:\n",
    "    z=i['review']['user']\n",
    "    print(z['name'],i['review']['rating'],i['review']['review_text'])"
   ]
  },
  {
   "cell_type": "markdown",
   "metadata": {},
   "source": [
    "# Zomato Distance Problem"
   ]
  },
  {
   "cell_type": "markdown",
   "metadata": {},
   "source": [
    "### Distance is also a very important factor while selecting a restaurant. Suppose you are at Coding Ninjas and you want to select the restaurant which is near to you using Zomato API.Note down the latitude and longitude of Coding Ninjas using Google Maps. There is a list of questions related to restaurant near me given in the next section."
   ]
  },
  {
   "cell_type": "markdown",
   "metadata": {},
   "source": [
    "### Zomato distance 3.1"
   ]
  },
  {
   "cell_type": "markdown",
   "metadata": {},
   "source": [
    "### Fetch the cuisine_id of of cuisine ‘BBQ’ using Zomato API. Print the cuisine_id"
   ]
  },
  {
   "cell_type": "code",
   "execution_count": 13,
   "metadata": {},
   "outputs": [
    {
     "name": "stdout",
     "output_type": "stream",
     "text": [
      "193\n"
     ]
    }
   ],
   "source": [
    "# lat= 28.697667\n",
    "# lon= 77.1406461\n",
    "import requests\n",
    "h={'user_key':'33f63ed15365921c3c1b6f01ed0fd123'}\n",
    "r=requests.get('https://developers.zomato.com/api/v2.1/cuisines',headers=h,params={'lat':28.697667,'lon':77.1406461})\n",
    "data=r.json()\n",
    "for i in data['cuisines']:\n",
    "    if i['cuisine']['cuisine_name']==\"BBQ\":\n",
    "        cuisine_id=i['cuisine']['cuisine_id']\n",
    "        break\n",
    "print(cuisine_id)"
   ]
  },
  {
   "cell_type": "markdown",
   "metadata": {},
   "source": [
    "### Zomato distance 3.2"
   ]
  },
  {
   "cell_type": "markdown",
   "metadata": {},
   "source": [
    "### Fetch the list of the top 10 restaurants serving cuisine ‘BBQ’ which are nearest to Coding Ninjas. Print the restaurant name, user rating, restaurant id and locality in which restaurant is present."
   ]
  },
  {
   "cell_type": "code",
   "execution_count": 20,
   "metadata": {},
   "outputs": [
    {
     "name": "stdout",
     "output_type": "stream",
     "text": [
      "Themis Barbecue House 4.5 18204820 Netaji Subhash Place\n",
      "Barbeque Nation 4.1 9561 Netaji Subhash Place\n",
      "New Bombay Bar-Be-Que 3.6 5303 Prashant Vihar\n",
      "Amazings Kitchen 0 19370424 Prashant Vihar\n",
      "UBQ by Barbeque Nation 3.7 19082741 Lawrence Road\n",
      "Moet's Barbeque 0 19238917 Alipur\n",
      "UBQ by Barbeque Nation 3.8 18889760 Rohini\n",
      "Kays Bar-Be-Que 3.8 3079 Ashok Vihar Phase 1\n",
      "7teen BBQ Bistro Bnq 3.8 18595610 Moti Nagar\n",
      "Pishori Chicken 0 19061375 Kirti Nagar\n"
     ]
    }
   ],
   "source": [
    "## Open and read data file as specified in the question\n",
    "## Print the required output in given format\n",
    "# lat= 28.697667\n",
    "# lon= 77.1406461\n",
    "import requests\n",
    "h={'user_key':'33f63ed15365921c3c1b6f01ed0fd123'}\n",
    "r=requests.get('https://developers.zomato.com/api/v2.1/cuisines',headers=h,params={'lat':28.697667,'lon':77.1406461})\n",
    "data=r.json()\n",
    "for i in data['cuisines']:\n",
    "    if i['cuisine']['cuisine_name']==\"BBQ\":\n",
    "        cuisine_id=i['cuisine']['cuisine_id']\n",
    "        break\n",
    "\n",
    "\n",
    "\n",
    "p1={'lat':28.697667,'lon':77.1406461,\"count\":10,\"cuisines\":cuisine_id,'sort':'real_distance'}\n",
    "r1=requests.get('https://developers.zomato.com/api/v2.1/search',headers=h,params=p1)\n",
    "data=r1.json()\n",
    "for i in data['restaurants']:\n",
    "    x=i['restaurant']['user_rating']\n",
    "    z=i['restaurant']['location']\n",
    "    print(i['restaurant']['name'],x['aggregate_rating'],i['restaurant']['id'],z['locality'])"
   ]
  },
  {
   "cell_type": "markdown",
   "metadata": {},
   "source": [
    "### Zomato distance 3.3"
   ]
  },
  {
   "cell_type": "markdown",
   "metadata": {},
   "source": [
    "### Fetch the latest review of the restaurant serving cuisine ‘BBQ’ which is most nearest to Coding ninjas? Print the name of user ,user rating and review text. Note : Due to limitation of basic API plan it, can only fetch 5 latest review"
   ]
  },
  {
   "cell_type": "code",
   "execution_count": 21,
   "metadata": {},
   "outputs": [
    {
     "name": "stdout",
     "output_type": "stream",
     "text": [
      "Medhavi 5 Enjoyed a wide range of dishes at this buffet outlet with aesthetic interiors and designer exteriors. Scrumptious barbeque starters with grilled chicken,fish tikka in skewers on the table. Sipped on a variety of mocktails plus the singer was there to entertain throughout our time there. The main course dishes were made very well with excellent sea food, dum biryani , paneer dishes, types of breads and exquisite desserts to choose from namely white chocolate brownie , pineapple pastries , truffle cake and cut fruits. Would definitely recommend to one and all.\n",
      "Piyush Matreja 5 Live singing, spectacular ambience and every one enjoying to the grilled kebabs on their table, that's Themis barbeque all about. Based on the concept of buffet where you start with snacks on the table with cool mocktails. I tried the lemon ice tea and charred prawns tikka as well as chicken malai tikka ,their non veg starters were great. Main course I had mutton rogan josh with lachha parantha and enjoyed a few of my favourite desserts namely strawberry tarts and a chocolate truffle cake with cherries. I must say that was a good lunch I relished after long.\n",
      "Kimaya Divya 5 A place offering a buffet concept in the northern part of Delhi, with live music , a dj set up, comfortable seating. They have a set up of a grill hot plate with food grilled on skewers. We opted for non veg set up and ate prawns , chicken malai tikka , tandoori chicken in the hot portion, while chilly fish ,pizzas and mutton seekh kebab were served separately. The main course had lots of variety with dal Makhani, paneer kadhai , mix vegetable, chicken pilaf ,mutton rogan josh. The restaurant did their level best and made our time a memorable one.\n",
      "Shivani 🐼 5 Themis barbque has really upscaled the barbque experience. Live Music 🎸 Live Grill 🔥 Great food 🦐 Good Service 🕴️ On every point it is 10/10.... 😀 You should really give a try to themis.\n",
      "Rachit Jaiswal 5 It was great to be at themis barbeque. Very reasonable amount and have ample of varieties in non veg. I liked their starters, especially chilli chicken and fish. Main course was good as well and desserts were the best part. All of them were delightful, rich in taste\n"
     ]
    }
   ],
   "source": [
    "## Open and read data file as specified in the question\n",
    "## Print the required output in given format\n",
    "\n",
    "import requests\n",
    "h={'user_key':'33f63ed15365921c3c1b6f01ed0fd123'}\n",
    "r=requests.get('https://developers.zomato.com/api/v2.1/cuisines',headers=h,params={'lat':28.697667,'lon':77.1406461})\n",
    "data=r.json()\n",
    "for i in data['cuisines']:\n",
    "    if i['cuisine']['cuisine_name']==\"BBQ\":\n",
    "        cuisine_id=i['cuisine']['cuisine_id']\n",
    "        break\n",
    "\n",
    "\n",
    "\n",
    "p1={'lat':28.697667,'lon':77.1406461,\"count\":1,\"cuisines\":cuisine_id,'sort':'real_distance'}\n",
    "r1=requests.get('https://developers.zomato.com/api/v2.1/search',headers=h,params=p1)\n",
    "data=r1.json()\n",
    "ids=1\n",
    "for i in data['restaurants']:\n",
    "    ids=i['restaurant']['id']\n",
    "    break\n",
    "    \n",
    "\n",
    "p2={'res_id':ids}\n",
    "r2=requests.get('https://developers.zomato.com/api/v2.1/reviews',headers=h,params=p2)\n",
    "data=r2.json()\n",
    "for i in data['user_reviews']:\n",
    "    z=i['review']['user']\n",
    "    print(z['name'],i['review']['rating'],i['review']['review_text'])\n",
    "    "
   ]
  },
  {
   "cell_type": "markdown",
   "metadata": {},
   "source": [
    "### Zomato distance 3.4"
   ]
  },
  {
   "cell_type": "markdown",
   "metadata": {},
   "source": [
    "### Experiment with the radius parameter that is present in ‘GET/search’. Fetch the list of top 10 best-restaurant present in a radius of 4 km of coding ninjas. Print the restaurant name, user rating, restaurant id and locality in which restaurant is present"
   ]
  },
  {
   "cell_type": "code",
   "execution_count": 22,
   "metadata": {},
   "outputs": [
    {
     "name": "stdout",
     "output_type": "stream",
     "text": [
      "Oishii Wok 4.9 19078918 DLF Phase 4\n",
      "Indian Accent 4.9 2004 The Lodhi, Lodhi Road\n",
      "Son Of A Bun 4.9 19300210 Golf Course Road\n",
      "Dana Choga 4.9 549 Sector 14\n",
      "Chili's Grill & Bar 4.9 18607069 Pacific Mall, Tagore Garden\n",
      "The Tandoori Tales 4.9 19231934 Sector 45\n",
      "Shanghai Surprise 4.9 19139037 DLF Phase 3\n",
      "Ah So Yum 4.8 18945610 Golf Course Road\n",
      "Master Koii's 4.8 18819947 Sushant Lok\n",
      "Mad Batter 4.8 18851593 Shopping Mall, DLF Phase 1\n"
     ]
    }
   ],
   "source": [
    "## Open and read data file as specified in the question\n",
    "## Print the required output in given format\n",
    "## Open and read data file as specified in the question\n",
    "## Print the required output in given format\n",
    "# lat= 28.697667\n",
    "# lon= 77.1406461\n",
    "import requests\n",
    "h={'user_key':'33f63ed15365921c3c1b6f01ed0fd123'}\n",
    "p1={'lat':28.697667,'lon':77.1406461,'radius':4000.00,\"count\":10,'sort':'rating','order':'desc'}\n",
    "r1=requests.get('https://developers.zomato.com/api/v2.1/search',headers=h,params=p1)\n",
    "data=r1.json()\n",
    "for i in data['restaurants']:\n",
    "    x=i['restaurant']['user_rating']\n",
    "    z=i['restaurant']['location']\n",
    "    print(i['restaurant']['name'],x['aggregate_rating'],i['restaurant']['id'],z['locality'])"
   ]
  }
 ],
 "metadata": {
  "kernelspec": {
   "display_name": "Python 3",
   "language": "python",
   "name": "python3"
  },
  "language_info": {
   "codemirror_mode": {
    "name": "ipython",
    "version": 3
   },
   "file_extension": ".py",
   "mimetype": "text/x-python",
   "name": "python",
   "nbconvert_exporter": "python",
   "pygments_lexer": "ipython3",
   "version": "3.7.7"
  }
 },
 "nbformat": 4,
 "nbformat_minor": 4
}
